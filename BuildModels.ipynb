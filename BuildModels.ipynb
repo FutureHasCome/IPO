{
 "cells": [
  {
   "cell_type": "markdown",
   "metadata": {},
   "source": [
    "# 模型建立"
   ]
  },
  {
   "cell_type": "markdown",
   "metadata": {
    "heading_collapsed": true
   },
   "source": [
    "## 介绍：思路解析\n",
    "\n",
    "在本文中，我们收集了2013-2017年间新股发行的数据如公司上市前资产负债及经营情况、上市首日的交易情况等，再对数据进行了一系列的预处理，得到了完整的数据集。经过统计描述的分析，发现我国股市的抑价现象严重，近几年间几乎不存在无抑价现象的新股。因此将抑价率高于均值的新股标记为1，低于均值的新股标记为0，得到了新的二分类变量并作为了目标变量，研究哪些因素会导致新股发行的抑价率明显高于一般水平及各影响因素的重要性。本文中使用了多种机器学习的模型，在表现效果较好的模型中，大部分为决策树及决策树改进的模型。"
   ]
  },
  {
   "cell_type": "markdown",
   "metadata": {
    "hidden": true
   },
   "source": [
    "本文中大部分的数据来自于CSMAR数据库，上证指数来自于tushare财经数据库\n",
    "- Stkcd：股票代码\n",
    "- Total assets：总资产（上市前最后一个会计统计期间）\n",
    "- Total equity：总负债（上市前最后一个会计统计期间）\n",
    "- Sales：总营业收入（上市前最后一个会计统计期间）\n",
    "- Operating profit：营业利润（上市前最后一个会计统计期间）\n",
    "- Net income：净利润（上市前最后一个会计统计期间）\n",
    "- Cash flow from operations：现金流量（上市前最后一个会计统计期间）\n",
    "- date：上市日期\n",
    "- One day excess return：上市首日日回报率\n",
    "- offer price：股票发行价格\n",
    "- Sales method：股票的发行方式：\n",
    "- Underwriting method：股票承销方式\n",
    "- number of shares sold：股票销售数量\n",
    "- inception date：公司上市距成立的日期\n",
    "- US dollar buying rate：汇率"
   ]
  },
  {
   "cell_type": "markdown",
   "metadata": {
    "heading_collapsed": true
   },
   "source": [
    "## 导入数据"
   ]
  },
  {
   "cell_type": "code",
   "execution_count": 1,
   "metadata": {
    "hidden": true
   },
   "outputs": [],
   "source": [
    "#pandas和numpy用于数据的处理\n",
    "import pandas as pd\n",
    "import numpy as np\n",
    "import re\n",
    "\n",
    "#matplotlib用于数据的可视化\n",
    "import matplotlib.pyplot as plt \n",
    "import matplotlib\n",
    "%matplotlib inline\n",
    "\n",
    "#忽略pandsa的警告\n",
    "import warnings\n",
    "warnings.filterwarnings('ignore')\n",
    "\n",
    "#为了画图更好看\n",
    "import seaborn as sns  \n",
    "sns.set( palette=\"muted\", color_codes=True)  "
   ]
  },
  {
   "cell_type": "code",
   "execution_count": 2,
   "metadata": {
    "hidden": true
   },
   "outputs": [],
   "source": [
    "#导入已经集成好的数据\n",
    "ipo=pd.read_csv(\"IPO.csv\")"
   ]
  },
  {
   "cell_type": "code",
   "execution_count": 3,
   "metadata": {
    "hidden": true
   },
   "outputs": [
    {
     "data": {
      "text/html": [
       "<div>\n",
       "<style scoped>\n",
       "    .dataframe tbody tr th:only-of-type {\n",
       "        vertical-align: middle;\n",
       "    }\n",
       "\n",
       "    .dataframe tbody tr th {\n",
       "        vertical-align: top;\n",
       "    }\n",
       "\n",
       "    .dataframe thead th {\n",
       "        text-align: right;\n",
       "    }\n",
       "</style>\n",
       "<table border=\"1\" class=\"dataframe\">\n",
       "  <thead>\n",
       "    <tr style=\"text-align: right;\">\n",
       "      <th></th>\n",
       "      <th>Stkcd</th>\n",
       "      <th>Total assets</th>\n",
       "      <th>Total debts</th>\n",
       "      <th>Cash flow from operations</th>\n",
       "      <th>Sales</th>\n",
       "      <th>Operating profit</th>\n",
       "      <th>Net income</th>\n",
       "      <th>One day excess return</th>\n",
       "      <th>Offer price</th>\n",
       "      <th>number of shares sold</th>\n",
       "      <th>ROA1</th>\n",
       "      <th>ROA2</th>\n",
       "      <th>Total assets turnover rate</th>\n",
       "      <th>Debt ratio</th>\n",
       "      <th>Firm age</th>\n",
       "      <th>Issue proceeds(USD)</th>\n",
       "      <th>year</th>\n",
       "      <th>Stock market sentiment</th>\n",
       "      <th>Sales method</th>\n",
       "    </tr>\n",
       "  </thead>\n",
       "  <tbody>\n",
       "    <tr>\n",
       "      <th>0</th>\n",
       "      <td>2705</td>\n",
       "      <td>3.390104e+09</td>\n",
       "      <td>2.068954e+09</td>\n",
       "      <td>5.592463e+08</td>\n",
       "      <td>5.041712e+09</td>\n",
       "      <td>2.447157e+08</td>\n",
       "      <td>1.922726e+08</td>\n",
       "      <td>0.467994</td>\n",
       "      <td>10.500000</td>\n",
       "      <td>7600.0000</td>\n",
       "      <td>0.056716</td>\n",
       "      <td>0.072185</td>\n",
       "      <td>1.487185</td>\n",
       "      <td>0.389708</td>\n",
       "      <td>18.126027</td>\n",
       "      <td>13067.827823</td>\n",
       "      <td>2014</td>\n",
       "      <td>-0.022301</td>\n",
       "      <td>1</td>\n",
       "    </tr>\n",
       "    <tr>\n",
       "      <th>1</th>\n",
       "      <td>2706</td>\n",
       "      <td>6.125454e+08</td>\n",
       "      <td>2.356095e+08</td>\n",
       "      <td>6.992491e+07</td>\n",
       "      <td>6.838492e+08</td>\n",
       "      <td>8.796354e+07</td>\n",
       "      <td>8.105681e+07</td>\n",
       "      <td>0.425468</td>\n",
       "      <td>19.099998</td>\n",
       "      <td>2154.0000</td>\n",
       "      <td>0.132328</td>\n",
       "      <td>0.143603</td>\n",
       "      <td>1.116406</td>\n",
       "      <td>0.615360</td>\n",
       "      <td>7.293151</td>\n",
       "      <td>6737.201547</td>\n",
       "      <td>2014</td>\n",
       "      <td>0.009827</td>\n",
       "      <td>1</td>\n",
       "    </tr>\n",
       "    <tr>\n",
       "      <th>2</th>\n",
       "      <td>2708</td>\n",
       "      <td>7.845328e+08</td>\n",
       "      <td>2.831599e+08</td>\n",
       "      <td>3.287824e+07</td>\n",
       "      <td>5.805561e+08</td>\n",
       "      <td>6.194554e+07</td>\n",
       "      <td>5.317030e+07</td>\n",
       "      <td>0.420506</td>\n",
       "      <td>11.880000</td>\n",
       "      <td>3320.0000</td>\n",
       "      <td>0.067773</td>\n",
       "      <td>0.078959</td>\n",
       "      <td>0.740002</td>\n",
       "      <td>0.639072</td>\n",
       "      <td>2.986301</td>\n",
       "      <td>6458.847594</td>\n",
       "      <td>2014</td>\n",
       "      <td>0.009827</td>\n",
       "      <td>1</td>\n",
       "    </tr>\n",
       "    <tr>\n",
       "      <th>3</th>\n",
       "      <td>300357</td>\n",
       "      <td>2.635215e+08</td>\n",
       "      <td>1.223968e+07</td>\n",
       "      <td>5.558691e+07</td>\n",
       "      <td>1.936098e+08</td>\n",
       "      <td>8.163514e+07</td>\n",
       "      <td>6.991001e+07</td>\n",
       "      <td>0.469495</td>\n",
       "      <td>20.050005</td>\n",
       "      <td>2525.0000</td>\n",
       "      <td>0.265291</td>\n",
       "      <td>0.309785</td>\n",
       "      <td>0.734702</td>\n",
       "      <td>0.953553</td>\n",
       "      <td>11.347945</td>\n",
       "      <td>8290.417208</td>\n",
       "      <td>2014</td>\n",
       "      <td>-0.022301</td>\n",
       "      <td>1</td>\n",
       "    </tr>\n",
       "    <tr>\n",
       "      <th>4</th>\n",
       "      <td>300358</td>\n",
       "      <td>1.076322e+09</td>\n",
       "      <td>6.208643e+08</td>\n",
       "      <td>1.388938e+08</td>\n",
       "      <td>7.972057e+08</td>\n",
       "      <td>1.400280e+08</td>\n",
       "      <td>1.351335e+08</td>\n",
       "      <td>0.446298</td>\n",
       "      <td>40.000000</td>\n",
       "      <td>1824.9813</td>\n",
       "      <td>0.125551</td>\n",
       "      <td>0.130099</td>\n",
       "      <td>0.740676</td>\n",
       "      <td>0.423161</td>\n",
       "      <td>11.210959</td>\n",
       "      <td>11954.156486</td>\n",
       "      <td>2014</td>\n",
       "      <td>-0.022301</td>\n",
       "      <td>1</td>\n",
       "    </tr>\n",
       "  </tbody>\n",
       "</table>\n",
       "</div>"
      ],
      "text/plain": [
       "    Stkcd  Total assets   Total debts  Cash flow from operations  \\\n",
       "0    2705  3.390104e+09  2.068954e+09               5.592463e+08   \n",
       "1    2706  6.125454e+08  2.356095e+08               6.992491e+07   \n",
       "2    2708  7.845328e+08  2.831599e+08               3.287824e+07   \n",
       "3  300357  2.635215e+08  1.223968e+07               5.558691e+07   \n",
       "4  300358  1.076322e+09  6.208643e+08               1.388938e+08   \n",
       "\n",
       "          Sales  Operating profit    Net income  One day excess return  \\\n",
       "0  5.041712e+09      2.447157e+08  1.922726e+08               0.467994   \n",
       "1  6.838492e+08      8.796354e+07  8.105681e+07               0.425468   \n",
       "2  5.805561e+08      6.194554e+07  5.317030e+07               0.420506   \n",
       "3  1.936098e+08      8.163514e+07  6.991001e+07               0.469495   \n",
       "4  7.972057e+08      1.400280e+08  1.351335e+08               0.446298   \n",
       "\n",
       "   Offer price  number of shares sold      ROA1      ROA2  \\\n",
       "0    10.500000              7600.0000  0.056716  0.072185   \n",
       "1    19.099998              2154.0000  0.132328  0.143603   \n",
       "2    11.880000              3320.0000  0.067773  0.078959   \n",
       "3    20.050005              2525.0000  0.265291  0.309785   \n",
       "4    40.000000              1824.9813  0.125551  0.130099   \n",
       "\n",
       "   Total assets turnover rate  Debt ratio   Firm age  Issue proceeds(USD)  \\\n",
       "0                    1.487185    0.389708  18.126027         13067.827823   \n",
       "1                    1.116406    0.615360   7.293151          6737.201547   \n",
       "2                    0.740002    0.639072   2.986301          6458.847594   \n",
       "3                    0.734702    0.953553  11.347945          8290.417208   \n",
       "4                    0.740676    0.423161  11.210959         11954.156486   \n",
       "\n",
       "   year  Stock market sentiment  Sales method  \n",
       "0  2014               -0.022301             1  \n",
       "1  2014                0.009827             1  \n",
       "2  2014                0.009827             1  \n",
       "3  2014               -0.022301             1  \n",
       "4  2014               -0.022301             1  "
      ]
     },
     "execution_count": 3,
     "metadata": {},
     "output_type": "execute_result"
    }
   ],
   "source": [
    "#查看数据\n",
    "ipo.head()"
   ]
  },
  {
   "cell_type": "markdown",
   "metadata": {
    "heading_collapsed": true
   },
   "source": [
    "## 对目标变量进行离散化处理"
   ]
  },
  {
   "cell_type": "code",
   "execution_count": 4,
   "metadata": {
    "hidden": true
   },
   "outputs": [],
   "source": [
    "#得到ipo抑价率的均值\n",
    "mean=ipo['One day excess return'].mean()\n",
    "\n",
    "#建立新的离散型的目标变量，抑价率大于均值的新股被标记为1，反之被标记为0\n",
    "ipo['flag']=0\n",
    "ipo['flag'][ipo['One day excess return']>0.4247]=1"
   ]
  },
  {
   "cell_type": "code",
   "execution_count": 5,
   "metadata": {
    "hidden": true
   },
   "outputs": [
    {
     "data": {
      "text/plain": [
       "1    508\n",
       "0    497\n",
       "Name: flag, dtype: int64"
      ]
     },
     "execution_count": 5,
     "metadata": {},
     "output_type": "execute_result"
    }
   ],
   "source": [
    "#对目标变量的两种类型的数量进行统计\n",
    "ipo['flag'].value_counts()"
   ]
  },
  {
   "cell_type": "code",
   "execution_count": 6,
   "metadata": {
    "hidden": true
   },
   "outputs": [
    {
     "data": {
      "text/plain": [
       "flag\n",
       "0    0.381081\n",
       "1    0.466876\n",
       "Name: One day excess return, dtype: float64"
      ]
     },
     "execution_count": 6,
     "metadata": {},
     "output_type": "execute_result"
    }
   ],
   "source": [
    "#查看不同类别下的首日日回报率的均值\n",
    "ipo.groupby(['flag'])['One day excess return'].mean()"
   ]
  },
  {
   "cell_type": "markdown",
   "metadata": {},
   "source": [
    "## 建模"
   ]
  },
  {
   "cell_type": "code",
   "execution_count": 7,
   "metadata": {},
   "outputs": [],
   "source": [
    "#导入所需要的模型\n",
    "from sklearn.tree import DecisionTreeClassifier \n",
    "from sklearn.ensemble import RandomForestClassifier  \n",
    "from sklearn.ensemble import GradientBoostingClassifier  \n",
    "import lightgbm as lgb\n",
    "from sklearn.svm import SVC\n",
    "from sklearn.linear_model import LogisticRegression  \n",
    "\n",
    "#用于数据集的拆分\n",
    "from sklearn.model_selection import KFold\n",
    "from sklearn.model_selection import train_test_split\n",
    "\n",
    "#用于模型的评价\n",
    "from sklearn import metrics\n",
    "from sklearn.metrics import confusion_matrix \n",
    "from sklearn.metrics import classification_report "
   ]
  },
  {
   "cell_type": "markdown",
   "metadata": {
    "heading_collapsed": true
   },
   "source": [
    "### 方法"
   ]
  },
  {
   "cell_type": "markdown",
   "metadata": {
    "heading_collapsed": true,
    "hidden": true
   },
   "source": [
    "#### 得到混淆矩阵"
   ]
  },
  {
   "cell_type": "code",
   "execution_count": 8,
   "metadata": {
    "hidden": true
   },
   "outputs": [],
   "source": [
    "def my_confusion_matrix(y_true, y_pred):\n",
    "    #得到混淆矩阵\n",
    "    #对验证集的结果进行评价，获得混淆矩阵的数据\n",
    "    #参数：y_true验证集中目标变量的真实取值\n",
    "    #      y_pred验证集中对目标变量的预测值\n",
    "    #注：y_true和y_pred均为0、1二值序列\n",
    "    #返回：TP,FN,FP,TN\n",
    "    \n",
    "        \n",
    "    labels = list(set(y_true))  \n",
    "    conf_mat = confusion_matrix(y_true, y_pred, labels = labels)\n",
    "    return conf_mat[0][0],conf_mat[0][1],conf_mat[1][0],conf_mat[1][1]\n",
    "  "
   ]
  },
  {
   "cell_type": "markdown",
   "metadata": {
    "heading_collapsed": true,
    "hidden": true
   },
   "source": [
    "#### 得到模型在验证集上的评估指标的数据"
   ]
  },
  {
   "cell_type": "code",
   "execution_count": 9,
   "metadata": {
    "hidden": true
   },
   "outputs": [],
   "source": [
    "def getreport(test_y,y_pred):\n",
    "    #得到模型在验证集上的评估指标的数据\n",
    "    #得到准确率、召回率和f值\n",
    "    #参数：y_true验证集中目标变量的真实取值\n",
    "    #      y_pred验证集中对目标变量的预测值\n",
    "    #注：y_true和y_pred均为0、1二值序列：\n",
    "    #返回：precision、recall、f1\n",
    "    \n",
    "    \n",
    "    report=classification_report(test_y, y_pred)\n",
    "    report_list=re.findall(\"(.*?)\\n\",report.replace(\"\\n\\n\",\"\\n\"))\n",
    "    title=report_list[0].split()\n",
    "    title.insert(0,\"label\")\n",
    "    avg_total=report_list[3].split()[3:-1]\n",
    "    return avg_total"
   ]
  },
  {
   "cell_type": "markdown",
   "metadata": {
    "heading_collapsed": true,
    "hidden": true
   },
   "source": [
    "#### 模型训练评估"
   ]
  },
  {
   "cell_type": "code",
   "execution_count": 10,
   "metadata": {
    "code_folding": [],
    "hidden": true
   },
   "outputs": [],
   "source": [
    "def model_kflod(clf,X,y): \n",
    "    #十折交叉验证，进行模型的训练和预测，最终输出模型的各类评价指标，体现模型综合的性能\n",
    "    #参数：clf：模型实例\n",
    "    #      X：总的样本（不加上标签的）\n",
    "    #      y:样本的标签\n",
    "    #返回：'TP','TN','FP','FN','Accuracy','AUC','Precision','Recall','f1-score'系列值在十次交叉验证中的均值\n",
    "    \n",
    "    \n",
    "    Report=[]\n",
    "    kf = KFold(n_splits=10, random_state=41523033)\n",
    "    train_test= kf.split(X,y)\n",
    "    for train_index, test_index in train_test:\n",
    "        train_x, test_x = X.loc[train_index], X.loc[test_index]\n",
    "        train_y, test_y = y[train_index], y[test_index]        \n",
    "        clf.fit(train_x, train_y)\n",
    "        y_pred = clf.predict(test_x)\n",
    "        test_auc =metrics.roc_auc_score(test_y,y_pred)\n",
    "        TP,FN,FP,TN=my_confusion_matrix(test_y,y_pred)\n",
    "        report=getreport(test_y,y_pred)\n",
    "        Report.append([TP/(TP+FN),TN/(TN+FP),FP/(FP + TN),FN/(TP + FN),(TP+TN)/(TP+FN+FP+TN),test_auc]+report)\n",
    "        \n",
    "    REPORT=pd.DataFrame(Report,columns=['TP','TN','FP','FN','Accuracy','AUC','Precision','Recall','f1-score'])\n",
    "    REPORT['Precision']=pd.to_numeric(REPORT['Precision'])\n",
    "    REPORT['Recall']=pd.to_numeric(REPORT['Recall'])\n",
    "    REPORT['f1-score']=pd.to_numeric(REPORT['f1-score'])\n",
    "    return REPORT.mean()"
   ]
  },
  {
   "cell_type": "markdown",
   "metadata": {
    "heading_collapsed": true,
    "hidden": true
   },
   "source": [
    "#### 得到特征重要性"
   ]
  },
  {
   "cell_type": "code",
   "execution_count": 11,
   "metadata": {
    "hidden": true
   },
   "outputs": [],
   "source": [
    "def model_feather(clf,X,y):\n",
    "    #对于筛选出的模型，计算特征的重要性\n",
    "    # 对于筛选出的模型，再次进行十折交叉验证，得到十次特征的重要性取值，并返回均值。\n",
    "    \n",
    "    Report=[]\n",
    "    kf = KFold(n_splits=10, random_state=41523033)\n",
    "    train_test= kf.split(X,y)\n",
    "    for train_index, test_index in train_test:\n",
    "        train_x, test_x = X.loc[train_index], X.loc[test_index]\n",
    "        train_y, test_y = y[train_index], y[test_index]        \n",
    "        clf.fit(train_x, train_y)\n",
    "        Report.append(clf.feature_importances_)\n",
    "    REPORT=pd.DataFrame(Report,columns=X.columns)\n",
    "    return REPORT.mean()"
   ]
  },
  {
   "cell_type": "markdown",
   "metadata": {},
   "source": [
    "### 模型"
   ]
  },
  {
   "cell_type": "code",
   "execution_count": 12,
   "metadata": {},
   "outputs": [],
   "source": [
    "#数据准备，目标变量和解释变量\n",
    "data=ipo.copy()\n",
    "X=data.drop(['flag','One day excess return','Stkcd','year'],axis=1)\n",
    "X.apply(lambda x: (x - np.min(x)) / (np.max(x) - np.min(x))) \n",
    "y=data['flag']"
   ]
  },
  {
   "cell_type": "markdown",
   "metadata": {},
   "source": [
    "####  决策树"
   ]
  },
  {
   "cell_type": "code",
   "execution_count": 13,
   "metadata": {},
   "outputs": [],
   "source": [
    "clf1 = DecisionTreeClassifier(criterion='gini')"
   ]
  },
  {
   "cell_type": "code",
   "execution_count": 14,
   "metadata": {},
   "outputs": [
    {
     "name": "stdout",
     "output_type": "stream",
     "text": [
      "TP           0.663076\n",
      "TN           0.701319\n",
      "FP           0.298681\n",
      "FN           0.336924\n",
      "Accuracy     0.702436\n",
      "AUC          0.682198\n",
      "Precision    0.734000\n",
      "Recall       0.701000\n",
      "f1-score     0.713000\n",
      "dtype: float64\n"
     ]
    }
   ],
   "source": [
    "# 模型的综合评价\n",
    "Report=model_kflod(clf1,X,y)\n",
    "print(Report)"
   ]
  },
  {
   "cell_type": "code",
   "execution_count": 15,
   "metadata": {},
   "outputs": [
    {
     "name": "stdout",
     "output_type": "stream",
     "text": [
      "Total assets                  0.019358\n",
      "Total debts                   0.020331\n",
      "Cash flow from operations     0.039304\n",
      "Sales                         0.029166\n",
      "Operating profit              0.026326\n",
      "Net income                    0.023330\n",
      "Offer price                   0.039371\n",
      "number of shares sold         0.045862\n",
      "ROA1                          0.025657\n",
      "ROA2                          0.030440\n",
      "Total assets turnover rate    0.046664\n",
      "Debt ratio                    0.034596\n",
      "Firm age                      0.066830\n",
      "Issue proceeds(USD)           0.025089\n",
      "Stock market sentiment        0.526223\n",
      "Sales method                  0.001454\n",
      "dtype: float64\n"
     ]
    }
   ],
   "source": [
    "# 特征重要性\n",
    "Report1=model_feather(clf1,X,y)\n",
    "print(Report1)"
   ]
  },
  {
   "cell_type": "markdown",
   "metadata": {},
   "source": [
    "#### Lightgbm"
   ]
  },
  {
   "cell_type": "code",
   "execution_count": 16,
   "metadata": {},
   "outputs": [
    {
     "name": "stdout",
     "output_type": "stream",
     "text": [
      "[1]\tvalid_0's auc: 0.82607\n",
      "Training until validation scores don't improve for 20 rounds.\n",
      "[2]\tvalid_0's auc: 0.828944\n",
      "[3]\tvalid_0's auc: 0.830437\n",
      "[4]\tvalid_0's auc: 0.835352\n",
      "[5]\tvalid_0's auc: 0.835506\n",
      "[6]\tvalid_0's auc: 0.835901\n",
      "[7]\tvalid_0's auc: 0.839302\n",
      "[8]\tvalid_0's auc: 0.835199\n",
      "[9]\tvalid_0's auc: 0.83713\n",
      "[10]\tvalid_0's auc: 0.836164\n",
      "Did not meet early stopping. Best iteration is:\n",
      "[7]\tvalid_0's auc: 0.839302\n"
     ]
    }
   ],
   "source": [
    "# 十折交叉验证，这里训练集和交叉验证集比例为7：3\n",
    "X_train, X_test, y_train, y_test = train_test_split(X,y,test_size=0.3,random_state=1)\n",
    "\n",
    "# 准备好适用于lgb模型的训练集和验证集\n",
    "lgb_train = lgb.Dataset(X_train, y_train)\n",
    "lgb_eval = lgb.Dataset(X_test, y_test, reference=lgb_train)\n",
    "#设定参数\n",
    "params = {\n",
    " 'task': 'train',\n",
    "'boosting_type': 'gbdt',\n",
    "'objective': 'binary',\n",
    "'metric': 'auc',\n",
    "'num_leaves': 41,\n",
    "'num_threads':40,\n",
    "'learning_rate': 0.1,\n",
    " 'max_depth':6,\n",
    "'verbose': 0\n",
    "}\n",
    "\n",
    "#模型训练\n",
    "gbm = lgb.train(params,lgb_train,num_boost_round=10,valid_sets=lgb_eval, early_stopping_rounds=20)\n",
    "\n",
    "#对验证集进行预测\n",
    "preds = gbm.predict(X_test, num_iteration=gbm.best_iteration)  # 输出的是概率结果"
   ]
  },
  {
   "cell_type": "code",
   "execution_count": 17,
   "metadata": {},
   "outputs": [
    {
     "name": "stdout",
     "output_type": "stream",
     "text": [
      "[0.6802721088435374, 0.896774193548387, 0.1032258064516129, 0.3197278911564626, 0.7913907284768212, 0.7885231511959623, '0.80', '0.79', '0.79']\n"
     ]
    }
   ],
   "source": [
    "#模型的总体评价指标\n",
    "y_pred1=pd.Series(preds).apply(lambda x:(x>=0.5)*1)\n",
    "test_auc =metrics.roc_auc_score(y_test,y_pred1)\n",
    "TP,FN,FP,TN=my_confusion_matrix(y_test,y_pred1)\n",
    "report=getreport(y_test,y_pred1)\n",
    "Report=([TP/(TP+FN),TN/(TN+FP),FP/(FP + TN),FN/(TP + FN),(TP+TN)/(TP+FN+FP+TN),test_auc]+report)\n",
    "print(Report)"
   ]
  },
  {
   "cell_type": "code",
   "execution_count": 18,
   "metadata": {},
   "outputs": [
    {
     "name": "stdout",
     "output_type": "stream",
     "text": [
      "Total_assets, 11\n",
      "Total_debts, 6\n",
      "Cash_flow_from_operations, 3\n",
      "Sales, 3\n",
      "Operating_profit, 5\n",
      "Net_income, 6\n",
      "Offer_price, 20\n",
      "number_of_shares_sold, 4\n",
      "ROA1, 1\n",
      "ROA2, 0\n",
      "Total_assets_turnover_rate, 10\n",
      "Debt_ratio, 5\n",
      "Firm_age, 13\n",
      "Issue_proceeds(USD), 6\n",
      "Stock_market_sentiment, 72\n",
      "Sales_method, 0\n"
     ]
    }
   ],
   "source": [
    "#导出特征重要性\n",
    "importance = gbm.feature_importance()\n",
    "names = gbm.feature_name()\n",
    "for index, im in enumerate(importance):\n",
    "    feature = names[index] + ', ' + str(im) \n",
    "    print(feature)"
   ]
  },
  {
   "cell_type": "markdown",
   "metadata": {},
   "source": [
    "#### GBDT"
   ]
  },
  {
   "cell_type": "code",
   "execution_count": 19,
   "metadata": {},
   "outputs": [],
   "source": [
    "gbdt = GradientBoostingClassifier(  \n",
    "    init=None,  \n",
    "    learning_rate=0.01,  \n",
    "    loss='deviance',  \n",
    "    max_depth=6,  \n",
    "    max_features=None,  \n",
    "    max_leaf_nodes=None,  \n",
    "    min_samples_leaf=1,  \n",
    "    min_samples_split=2,  \n",
    "    min_weight_fraction_leaf=0.0,  \n",
    "    n_estimators=100,  \n",
    "        random_state=None,  \n",
    "    verbose=0,  \n",
    "    warm_start=False)  "
   ]
  },
  {
   "cell_type": "code",
   "execution_count": 20,
   "metadata": {},
   "outputs": [
    {
     "data": {
      "text/plain": [
       "TP           0.615439\n",
       "TN           0.833385\n",
       "FP           0.166615\n",
       "FN           0.384561\n",
       "Accuracy     0.749228\n",
       "AUC          0.724412\n",
       "Precision    0.775000\n",
       "Recall       0.748000\n",
       "f1-score     0.751000\n",
       "dtype: float64"
      ]
     },
     "execution_count": 20,
     "metadata": {},
     "output_type": "execute_result"
    }
   ],
   "source": [
    "#模型的总体评价指标\n",
    "Report=model_kflod(gbdt,X,y)\n",
    "Report"
   ]
  },
  {
   "cell_type": "code",
   "execution_count": 21,
   "metadata": {},
   "outputs": [
    {
     "data": {
      "text/plain": [
       "Total assets                  0.010315\n",
       "Total debts                   0.012524\n",
       "Cash flow from operations     0.019966\n",
       "Sales                         0.021060\n",
       "Operating profit              0.013743\n",
       "Net income                    0.017759\n",
       "Offer price                   0.028029\n",
       "number of shares sold         0.031858\n",
       "ROA1                          0.016333\n",
       "ROA2                          0.012326\n",
       "Total assets turnover rate    0.034969\n",
       "Debt ratio                    0.017089\n",
       "Firm age                      0.041015\n",
       "Issue proceeds(USD)           0.011081\n",
       "Stock market sentiment        0.710458\n",
       "Sales method                  0.001475\n",
       "dtype: float64"
      ]
     },
     "execution_count": 21,
     "metadata": {},
     "output_type": "execute_result"
    }
   ],
   "source": [
    "#特征的重要性\n",
    "Report1=model_feather(gbdt,X,y)\n",
    "Report1"
   ]
  },
  {
   "cell_type": "markdown",
   "metadata": {},
   "source": [
    "#### 随机森林"
   ]
  },
  {
   "cell_type": "code",
   "execution_count": 22,
   "metadata": {},
   "outputs": [],
   "source": [
    "clf = RandomForestClassifier(n_estimators=100,oob_score=True,criterion='gini')"
   ]
  },
  {
   "cell_type": "code",
   "execution_count": 23,
   "metadata": {},
   "outputs": [
    {
     "data": {
      "text/plain": [
       "TP           0.639249\n",
       "TN           0.783783\n",
       "FP           0.216217\n",
       "FN           0.360751\n",
       "Accuracy     0.722455\n",
       "AUC          0.711516\n",
       "Precision    0.761000\n",
       "Recall       0.721000\n",
       "f1-score     0.730000\n",
       "dtype: float64"
      ]
     },
     "execution_count": 23,
     "metadata": {},
     "output_type": "execute_result"
    }
   ],
   "source": [
    "#模型总体评价指标\n",
    "Report=model_kflod(clf,X,y)\n",
    "Report"
   ]
  },
  {
   "cell_type": "code",
   "execution_count": 24,
   "metadata": {},
   "outputs": [
    {
     "data": {
      "text/plain": [
       "Total assets                  0.042758\n",
       "Total debts                   0.044920\n",
       "Cash flow from operations     0.047608\n",
       "Sales                         0.045517\n",
       "Operating profit              0.041330\n",
       "Net income                    0.041032\n",
       "Offer price                   0.053496\n",
       "number of shares sold         0.051824\n",
       "ROA1                          0.045737\n",
       "ROA2                          0.044173\n",
       "Total assets turnover rate    0.049939\n",
       "Debt ratio                    0.050949\n",
       "Firm age                      0.063419\n",
       "Issue proceeds(USD)           0.046455\n",
       "Stock market sentiment        0.319748\n",
       "Sales method                  0.011094\n",
       "dtype: float64"
      ]
     },
     "execution_count": 24,
     "metadata": {},
     "output_type": "execute_result"
    }
   ],
   "source": [
    "#特征的重要性\n",
    "Report1=model_feather(clf,X,y)\n",
    "Report1"
   ]
  },
  {
   "cell_type": "markdown",
   "metadata": {},
   "source": [
    "#### 逻辑回归模型"
   ]
  },
  {
   "cell_type": "code",
   "execution_count": 25,
   "metadata": {},
   "outputs": [],
   "source": [
    "clf = LogisticRegression()"
   ]
  },
  {
   "cell_type": "code",
   "execution_count": 26,
   "metadata": {},
   "outputs": [
    {
     "data": {
      "text/plain": [
       "TP           0.643978\n",
       "TN           0.691898\n",
       "FP           0.308102\n",
       "FN           0.356022\n",
       "Accuracy     0.688446\n",
       "AUC          0.667938\n",
       "Precision    0.719000\n",
       "Recall       0.687000\n",
       "f1-score     0.699000\n",
       "dtype: float64"
      ]
     },
     "execution_count": 26,
     "metadata": {},
     "output_type": "execute_result"
    }
   ],
   "source": [
    "#模型总体评价指标\n",
    "Report=model_kflod(clf1,X,y)\n",
    "Report"
   ]
  },
  {
   "cell_type": "markdown",
   "metadata": {},
   "source": [
    "#### 支持向量机"
   ]
  },
  {
   "cell_type": "code",
   "execution_count": 27,
   "metadata": {},
   "outputs": [],
   "source": [
    "data1=ipo.copy()\n",
    "data1['flag1']=-1\n",
    "data1['flag1'][data1['One day excess return']>0.4247]=1\n",
    "X=data1.drop(['flag','One day excess return','Stkcd','year','flag1'],axis=1)\n",
    "y=data1['flag1']"
   ]
  },
  {
   "cell_type": "code",
   "execution_count": 28,
   "metadata": {},
   "outputs": [],
   "source": [
    "clf = SVC(kernel='rbf')"
   ]
  },
  {
   "cell_type": "code",
   "execution_count": 29,
   "metadata": {},
   "outputs": [
    {
     "data": {
      "text/plain": [
       "TP           0.678914\n",
       "TN           0.677477\n",
       "FP           0.322523\n",
       "FN           0.321086\n",
       "Accuracy     0.699416\n",
       "AUC          0.678196\n",
       "Precision    0.729000\n",
       "Recall       0.698000\n",
       "f1-score     0.709000\n",
       "dtype: float64"
      ]
     },
     "execution_count": 29,
     "metadata": {},
     "output_type": "execute_result"
    }
   ],
   "source": [
    "#模型总体评价指标\n",
    "Report=model_kflod(clf1,X,y)\n",
    "Report"
   ]
  },
  {
   "cell_type": "code",
   "execution_count": 30,
   "metadata": {},
   "outputs": [
    {
     "data": {
      "text/plain": [
       "Total assets                  0.021722\n",
       "Total debts                   0.017663\n",
       "Cash flow from operations     0.035126\n",
       "Sales                         0.035573\n",
       "Operating profit              0.020506\n",
       "Net income                    0.022244\n",
       "Offer price                   0.039633\n",
       "number of shares sold         0.050877\n",
       "ROA1                          0.024990\n",
       "ROA2                          0.027658\n",
       "Total assets turnover rate    0.047068\n",
       "Debt ratio                    0.028441\n",
       "Firm age                      0.061599\n",
       "Issue proceeds(USD)           0.031953\n",
       "Stock market sentiment        0.533799\n",
       "Sales method                  0.001147\n",
       "dtype: float64"
      ]
     },
     "execution_count": 30,
     "metadata": {},
     "output_type": "execute_result"
    }
   ],
   "source": [
    "#模型特征重要性\n",
    "Report=model_feather(clf1,X,y)\n",
    "Report"
   ]
  },
  {
   "cell_type": "code",
   "execution_count": null,
   "metadata": {},
   "outputs": [],
   "source": []
  }
 ],
 "metadata": {
  "kernelspec": {
   "display_name": "Python 3",
   "language": "python",
   "name": "python3"
  },
  "language_info": {
   "codemirror_mode": {
    "name": "ipython",
    "version": 3
   },
   "file_extension": ".py",
   "mimetype": "text/x-python",
   "name": "python",
   "nbconvert_exporter": "python",
   "pygments_lexer": "ipython3",
   "version": "3.6.1"
  },
  "toc": {
   "base_numbering": 1,
   "nav_menu": {},
   "number_sections": true,
   "sideBar": true,
   "skip_h1_title": false,
   "title_cell": "Table of Contents",
   "title_sidebar": "Contents",
   "toc_cell": false,
   "toc_position": {
    "height": "calc(100% - 180px)",
    "left": "10px",
    "top": "150px",
    "width": "245px"
   },
   "toc_section_display": true,
   "toc_window_display": false
  }
 },
 "nbformat": 4,
 "nbformat_minor": 2
}
