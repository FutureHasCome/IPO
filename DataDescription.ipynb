{
 "cells": [
  {
   "cell_type": "markdown",
   "metadata": {},
   "source": [
    "# 数据的描述"
   ]
  },
  {
   "cell_type": "markdown",
   "metadata": {},
   "source": [
    "在进行建模前，先对数据进行描述统计，大致了解现有的数据"
   ]
  },
  {
   "cell_type": "markdown",
   "metadata": {
    "heading_collapsed": true
   },
   "source": [
    "## 导入数据"
   ]
  },
  {
   "cell_type": "code",
   "execution_count": 1,
   "metadata": {
    "hidden": true
   },
   "outputs": [],
   "source": [
    "#pandas和numpy用于数据的处理\n",
    "import pandas as pd\n",
    "import numpy as np\n",
    "import re\n",
    "\n",
    "#matplotlib用于数据的可视化\n",
    "import matplotlib.pyplot as plt \n",
    "import matplotlib\n",
    "%matplotlib inline\n",
    "\n",
    "#忽略pandsa的警告\n",
    "import warnings\n",
    "warnings.filterwarnings('ignore')\n",
    "\n",
    "#为了画图更好看\n",
    "import seaborn as sns  \n",
    "sns.set( palette=\"muted\", color_codes=True) "
   ]
  },
  {
   "cell_type": "code",
   "execution_count": 2,
   "metadata": {
    "hidden": true
   },
   "outputs": [],
   "source": [
    "#导入已经集成好的数据\n",
    "ipo=pd.read_csv(\"IPO.csv\")"
   ]
  },
  {
   "cell_type": "code",
   "execution_count": 3,
   "metadata": {
    "hidden": true
   },
   "outputs": [
    {
     "data": {
      "text/html": [
       "<div>\n",
       "<style scoped>\n",
       "    .dataframe tbody tr th:only-of-type {\n",
       "        vertical-align: middle;\n",
       "    }\n",
       "\n",
       "    .dataframe tbody tr th {\n",
       "        vertical-align: top;\n",
       "    }\n",
       "\n",
       "    .dataframe thead th {\n",
       "        text-align: right;\n",
       "    }\n",
       "</style>\n",
       "<table border=\"1\" class=\"dataframe\">\n",
       "  <thead>\n",
       "    <tr style=\"text-align: right;\">\n",
       "      <th></th>\n",
       "      <th>Stkcd</th>\n",
       "      <th>Total assets</th>\n",
       "      <th>Total debts</th>\n",
       "      <th>Cash flow from operations</th>\n",
       "      <th>Sales</th>\n",
       "      <th>Operating profit</th>\n",
       "      <th>Net income</th>\n",
       "      <th>One day excess return</th>\n",
       "      <th>Offer price</th>\n",
       "      <th>number of shares sold</th>\n",
       "      <th>ROA1</th>\n",
       "      <th>ROA2</th>\n",
       "      <th>Total assets turnover rate</th>\n",
       "      <th>Debt ratio</th>\n",
       "      <th>Firm age</th>\n",
       "      <th>Issue proceeds(USD)</th>\n",
       "      <th>year</th>\n",
       "      <th>Stock market sentiment</th>\n",
       "      <th>Sales method</th>\n",
       "    </tr>\n",
       "  </thead>\n",
       "  <tbody>\n",
       "    <tr>\n",
       "      <th>0</th>\n",
       "      <td>2705</td>\n",
       "      <td>3.390104e+09</td>\n",
       "      <td>2.068954e+09</td>\n",
       "      <td>5.592463e+08</td>\n",
       "      <td>5.041712e+09</td>\n",
       "      <td>2.447157e+08</td>\n",
       "      <td>1.922726e+08</td>\n",
       "      <td>0.467994</td>\n",
       "      <td>10.500000</td>\n",
       "      <td>7600.0000</td>\n",
       "      <td>0.056716</td>\n",
       "      <td>0.072185</td>\n",
       "      <td>1.487185</td>\n",
       "      <td>0.389708</td>\n",
       "      <td>18.126027</td>\n",
       "      <td>13067.827823</td>\n",
       "      <td>2014</td>\n",
       "      <td>-0.022301</td>\n",
       "      <td>1</td>\n",
       "    </tr>\n",
       "    <tr>\n",
       "      <th>1</th>\n",
       "      <td>2706</td>\n",
       "      <td>6.125454e+08</td>\n",
       "      <td>2.356095e+08</td>\n",
       "      <td>6.992491e+07</td>\n",
       "      <td>6.838492e+08</td>\n",
       "      <td>8.796354e+07</td>\n",
       "      <td>8.105681e+07</td>\n",
       "      <td>0.425468</td>\n",
       "      <td>19.099998</td>\n",
       "      <td>2154.0000</td>\n",
       "      <td>0.132328</td>\n",
       "      <td>0.143603</td>\n",
       "      <td>1.116406</td>\n",
       "      <td>0.615360</td>\n",
       "      <td>7.293151</td>\n",
       "      <td>6737.201547</td>\n",
       "      <td>2014</td>\n",
       "      <td>0.009827</td>\n",
       "      <td>1</td>\n",
       "    </tr>\n",
       "    <tr>\n",
       "      <th>2</th>\n",
       "      <td>2708</td>\n",
       "      <td>7.845328e+08</td>\n",
       "      <td>2.831599e+08</td>\n",
       "      <td>3.287824e+07</td>\n",
       "      <td>5.805561e+08</td>\n",
       "      <td>6.194554e+07</td>\n",
       "      <td>5.317030e+07</td>\n",
       "      <td>0.420506</td>\n",
       "      <td>11.880000</td>\n",
       "      <td>3320.0000</td>\n",
       "      <td>0.067773</td>\n",
       "      <td>0.078959</td>\n",
       "      <td>0.740002</td>\n",
       "      <td>0.639072</td>\n",
       "      <td>2.986301</td>\n",
       "      <td>6458.847594</td>\n",
       "      <td>2014</td>\n",
       "      <td>0.009827</td>\n",
       "      <td>1</td>\n",
       "    </tr>\n",
       "    <tr>\n",
       "      <th>3</th>\n",
       "      <td>300357</td>\n",
       "      <td>2.635215e+08</td>\n",
       "      <td>1.223968e+07</td>\n",
       "      <td>5.558691e+07</td>\n",
       "      <td>1.936098e+08</td>\n",
       "      <td>8.163514e+07</td>\n",
       "      <td>6.991001e+07</td>\n",
       "      <td>0.469495</td>\n",
       "      <td>20.050005</td>\n",
       "      <td>2525.0000</td>\n",
       "      <td>0.265291</td>\n",
       "      <td>0.309785</td>\n",
       "      <td>0.734702</td>\n",
       "      <td>0.953553</td>\n",
       "      <td>11.347945</td>\n",
       "      <td>8290.417208</td>\n",
       "      <td>2014</td>\n",
       "      <td>-0.022301</td>\n",
       "      <td>1</td>\n",
       "    </tr>\n",
       "    <tr>\n",
       "      <th>4</th>\n",
       "      <td>300358</td>\n",
       "      <td>1.076322e+09</td>\n",
       "      <td>6.208643e+08</td>\n",
       "      <td>1.388938e+08</td>\n",
       "      <td>7.972057e+08</td>\n",
       "      <td>1.400280e+08</td>\n",
       "      <td>1.351335e+08</td>\n",
       "      <td>0.446298</td>\n",
       "      <td>40.000000</td>\n",
       "      <td>1824.9813</td>\n",
       "      <td>0.125551</td>\n",
       "      <td>0.130099</td>\n",
       "      <td>0.740676</td>\n",
       "      <td>0.423161</td>\n",
       "      <td>11.210959</td>\n",
       "      <td>11954.156486</td>\n",
       "      <td>2014</td>\n",
       "      <td>-0.022301</td>\n",
       "      <td>1</td>\n",
       "    </tr>\n",
       "  </tbody>\n",
       "</table>\n",
       "</div>"
      ],
      "text/plain": [
       "    Stkcd  Total assets   Total debts  Cash flow from operations  \\\n",
       "0    2705  3.390104e+09  2.068954e+09               5.592463e+08   \n",
       "1    2706  6.125454e+08  2.356095e+08               6.992491e+07   \n",
       "2    2708  7.845328e+08  2.831599e+08               3.287824e+07   \n",
       "3  300357  2.635215e+08  1.223968e+07               5.558691e+07   \n",
       "4  300358  1.076322e+09  6.208643e+08               1.388938e+08   \n",
       "\n",
       "          Sales  Operating profit    Net income  One day excess return  \\\n",
       "0  5.041712e+09      2.447157e+08  1.922726e+08               0.467994   \n",
       "1  6.838492e+08      8.796354e+07  8.105681e+07               0.425468   \n",
       "2  5.805561e+08      6.194554e+07  5.317030e+07               0.420506   \n",
       "3  1.936098e+08      8.163514e+07  6.991001e+07               0.469495   \n",
       "4  7.972057e+08      1.400280e+08  1.351335e+08               0.446298   \n",
       "\n",
       "   Offer price  number of shares sold      ROA1      ROA2  \\\n",
       "0    10.500000              7600.0000  0.056716  0.072185   \n",
       "1    19.099998              2154.0000  0.132328  0.143603   \n",
       "2    11.880000              3320.0000  0.067773  0.078959   \n",
       "3    20.050005              2525.0000  0.265291  0.309785   \n",
       "4    40.000000              1824.9813  0.125551  0.130099   \n",
       "\n",
       "   Total assets turnover rate  Debt ratio   Firm age  Issue proceeds(USD)  \\\n",
       "0                    1.487185    0.389708  18.126027         13067.827823   \n",
       "1                    1.116406    0.615360   7.293151          6737.201547   \n",
       "2                    0.740002    0.639072   2.986301          6458.847594   \n",
       "3                    0.734702    0.953553  11.347945          8290.417208   \n",
       "4                    0.740676    0.423161  11.210959         11954.156486   \n",
       "\n",
       "   year  Stock market sentiment  Sales method  \n",
       "0  2014               -0.022301             1  \n",
       "1  2014                0.009827             1  \n",
       "2  2014                0.009827             1  \n",
       "3  2014               -0.022301             1  \n",
       "4  2014               -0.022301             1  "
      ]
     },
     "execution_count": 3,
     "metadata": {},
     "output_type": "execute_result"
    }
   ],
   "source": [
    "#查看数据\n",
    "ipo.head()"
   ]
  },
  {
   "cell_type": "markdown",
   "metadata": {},
   "source": [
    "## 数据分析"
   ]
  },
  {
   "cell_type": "markdown",
   "metadata": {
    "heading_collapsed": true
   },
   "source": [
    "### IPO的抑价率的分析"
   ]
  },
  {
   "cell_type": "code",
   "execution_count": 4,
   "metadata": {
    "hidden": true
   },
   "outputs": [
    {
     "data": {
      "text/plain": [
       "0.4244478029850746"
      ]
     },
     "execution_count": 4,
     "metadata": {},
     "output_type": "execute_result"
    }
   ],
   "source": [
    "ipo['One day excess return'].mean()"
   ]
  },
  {
   "cell_type": "code",
   "execution_count": 5,
   "metadata": {
    "hidden": true
   },
   "outputs": [
    {
     "data": {
      "text/plain": [
       "<matplotlib.axes._subplots.AxesSubplot at 0x1b20d895588>"
      ]
     },
     "execution_count": 5,
     "metadata": {},
     "output_type": "execute_result"
    },
    {
     "data": {
      "image/png": "[encoded data removed]",
      "text/plain": [
       "<matplotlib.figure.Figure at 0x1b20d816c50>"
      ]
     },
     "metadata": {},
     "output_type": "display_data"
    }
   ],
   "source": [
    "temp=ipo.sort_values('One day excess return')['One day excess return']\n",
    "sns.distplot(temp,color=\"b\", bins=30,label=\"the distribution of One Day Excess Return\")"
   ]
  },
  {
   "cell_type": "markdown",
   "metadata": {
    "hidden": true
   },
   "source": [
    "根据上图显示，首日回报率的分布近似正态分布，均值为0.424309。相比于其他国家，中国的股市存在非常普遍的抑价现象，少数IPO抑价现象十分严重。"
   ]
  },
  {
   "cell_type": "code",
   "execution_count": 6,
   "metadata": {
    "hidden": true
   },
   "outputs": [
    {
     "data": {
      "text/plain": [
       "(0, 500)"
      ]
     },
     "execution_count": 6,
     "metadata": {},
     "output_type": "execute_result"
    },
    {
     "data": {
      "image/png": "[encoded data removed]",
      "text/plain": [
       "<matplotlib.figure.Figure at 0x1b20f8eb160>"
      ]
     },
     "metadata": {},
     "output_type": "display_data"
    }
   ],
   "source": [
    "temp2=ipo.copy()\n",
    "#画出每年新股上市的数目和新股抑价率的均值\n",
    "ipo_mean=temp2.groupby(['year'])['One day excess return'].mean()\n",
    "ipo_count=temp2.groupby(['year'])['Stkcd'].count()\n",
    "#设置双坐标轴\n",
    "fig = plt.figure()\n",
    "ax1 = fig.add_subplot(111)\n",
    "ax1.plot(ipo_mean,'b-*')\n",
    "ax1.set_ylabel('the mean of One Day Excess Return')\n",
    "ax1.set_title(\"IPO\")\n",
    "ax1.set_ylim(0,0.5)\n",
    "\n",
    "ax2 = ax1.twinx()  # this is the important function\n",
    "ax2.plot(ipo_count, 'r-o')\n",
    "ax2.set_ylabel('the number of IPO')\n",
    "ax2.set_xlabel('year')\n",
    "ax2.set_ylim(0,500)"
   ]
  },
  {
   "cell_type": "markdown",
   "metadata": {
    "hidden": true
   },
   "source": [
    "- 从近四年的数据来看,上市公司的数量在稳步增长，在17年突破了400家；而平均抑价率则增长比较平缓，维持在0.4上下。"
   ]
  },
  {
   "cell_type": "code",
   "execution_count": 7,
   "metadata": {
    "hidden": true
   },
   "outputs": [
    {
     "data": {
      "text/html": [
       "<div>\n",
       "<style scoped>\n",
       "    .dataframe tbody tr th:only-of-type {\n",
       "        vertical-align: middle;\n",
       "    }\n",
       "\n",
       "    .dataframe tbody tr th {\n",
       "        vertical-align: top;\n",
       "    }\n",
       "\n",
       "    .dataframe thead th {\n",
       "        text-align: right;\n",
       "    }\n",
       "</style>\n",
       "<table border=\"1\" class=\"dataframe\">\n",
       "  <thead>\n",
       "    <tr style=\"text-align: right;\">\n",
       "      <th></th>\n",
       "      <th>count</th>\n",
       "      <th>mean</th>\n",
       "      <th>std</th>\n",
       "      <th>min</th>\n",
       "      <th>25%</th>\n",
       "      <th>50%</th>\n",
       "      <th>75%</th>\n",
       "      <th>max</th>\n",
       "    </tr>\n",
       "    <tr>\n",
       "      <th>year</th>\n",
       "      <th></th>\n",
       "      <th></th>\n",
       "      <th></th>\n",
       "      <th></th>\n",
       "      <th></th>\n",
       "      <th></th>\n",
       "      <th></th>\n",
       "      <th></th>\n",
       "    </tr>\n",
       "  </thead>\n",
       "  <tbody>\n",
       "    <tr>\n",
       "      <th>2014</th>\n",
       "      <td>124.0</td>\n",
       "      <td>0.385549</td>\n",
       "      <td>0.054677</td>\n",
       "      <td>0.118724</td>\n",
       "      <td>0.365258</td>\n",
       "      <td>0.382008</td>\n",
       "      <td>0.414789</td>\n",
       "      <td>0.528730</td>\n",
       "    </tr>\n",
       "    <tr>\n",
       "      <th>2015</th>\n",
       "      <td>219.0</td>\n",
       "      <td>0.402952</td>\n",
       "      <td>0.114810</td>\n",
       "      <td>0.223207</td>\n",
       "      <td>0.340218</td>\n",
       "      <td>0.378525</td>\n",
       "      <td>0.424191</td>\n",
       "      <td>0.803756</td>\n",
       "    </tr>\n",
       "    <tr>\n",
       "      <th>2016</th>\n",
       "      <td>226.0</td>\n",
       "      <td>0.436462</td>\n",
       "      <td>0.043211</td>\n",
       "      <td>0.289898</td>\n",
       "      <td>0.407873</td>\n",
       "      <td>0.432286</td>\n",
       "      <td>0.459350</td>\n",
       "      <td>0.583653</td>\n",
       "    </tr>\n",
       "    <tr>\n",
       "      <th>2017</th>\n",
       "      <td>436.0</td>\n",
       "      <td>0.440081</td>\n",
       "      <td>0.030127</td>\n",
       "      <td>0.331546</td>\n",
       "      <td>0.420029</td>\n",
       "      <td>0.434749</td>\n",
       "      <td>0.454619</td>\n",
       "      <td>0.554606</td>\n",
       "    </tr>\n",
       "  </tbody>\n",
       "</table>\n",
       "</div>"
      ],
      "text/plain": [
       "      count      mean       std       min       25%       50%       75%  \\\n",
       "year                                                                      \n",
       "2014  124.0  0.385549  0.054677  0.118724  0.365258  0.382008  0.414789   \n",
       "2015  219.0  0.402952  0.114810  0.223207  0.340218  0.378525  0.424191   \n",
       "2016  226.0  0.436462  0.043211  0.289898  0.407873  0.432286  0.459350   \n",
       "2017  436.0  0.440081  0.030127  0.331546  0.420029  0.434749  0.454619   \n",
       "\n",
       "           max  \n",
       "year            \n",
       "2014  0.528730  \n",
       "2015  0.803756  \n",
       "2016  0.583653  \n",
       "2017  0.554606  "
      ]
     },
     "execution_count": 7,
     "metadata": {},
     "output_type": "execute_result"
    }
   ],
   "source": [
    "#分年份的新股抑价率的统计描述\n",
    "ipo.groupby(['year'])['One day excess return'].describe()"
   ]
  },
  {
   "cell_type": "markdown",
   "metadata": {
    "heading_collapsed": true
   },
   "source": [
    "### IPO和发行方式的分析"
   ]
  },
  {
   "cell_type": "code",
   "execution_count": 8,
   "metadata": {
    "hidden": true
   },
   "outputs": [
    {
     "data": {
      "text/html": [
       "<div>\n",
       "<style scoped>\n",
       "    .dataframe tbody tr th:only-of-type {\n",
       "        vertical-align: middle;\n",
       "    }\n",
       "\n",
       "    .dataframe tbody tr th {\n",
       "        vertical-align: top;\n",
       "    }\n",
       "\n",
       "    .dataframe thead th {\n",
       "        text-align: right;\n",
       "    }\n",
       "</style>\n",
       "<table border=\"1\" class=\"dataframe\">\n",
       "  <thead>\n",
       "    <tr style=\"text-align: right;\">\n",
       "      <th></th>\n",
       "      <th>Stkcd</th>\n",
       "    </tr>\n",
       "    <tr>\n",
       "      <th>Sales method</th>\n",
       "      <th></th>\n",
       "    </tr>\n",
       "  </thead>\n",
       "  <tbody>\n",
       "    <tr>\n",
       "      <th>0</th>\n",
       "      <td>153</td>\n",
       "    </tr>\n",
       "    <tr>\n",
       "      <th>1</th>\n",
       "      <td>852</td>\n",
       "    </tr>\n",
       "  </tbody>\n",
       "</table>\n",
       "</div>"
      ],
      "text/plain": [
       "              Stkcd\n",
       "Sales method       \n",
       "0               153\n",
       "1               852"
      ]
     },
     "execution_count": 8,
     "metadata": {},
     "output_type": "execute_result"
    }
   ],
   "source": [
    "temp=ipo.copy()\n",
    "temp[['Stkcd','Sales method']].groupby(['Sales method']).count()"
   ]
  },
  {
   "cell_type": "markdown",
   "metadata": {
    "hidden": true
   },
   "source": [
    "从销售方式来看，大多数的公司选择了上网定价和网下询价两种发行方式，仅有153家只使用了上网定价方式发行。"
   ]
  },
  {
   "cell_type": "code",
   "execution_count": 9,
   "metadata": {
    "hidden": true
   },
   "outputs": [
    {
     "data": {
      "text/html": [
       "<div>\n",
       "<style scoped>\n",
       "    .dataframe tbody tr th:only-of-type {\n",
       "        vertical-align: middle;\n",
       "    }\n",
       "\n",
       "    .dataframe tbody tr th {\n",
       "        vertical-align: top;\n",
       "    }\n",
       "\n",
       "    .dataframe thead tr th {\n",
       "        text-align: left;\n",
       "    }\n",
       "\n",
       "    .dataframe thead tr:last-of-type th {\n",
       "        text-align: right;\n",
       "    }\n",
       "</style>\n",
       "<table border=\"1\" class=\"dataframe\">\n",
       "  <thead>\n",
       "    <tr>\n",
       "      <th></th>\n",
       "      <th colspan=\"8\" halign=\"left\">One day excess return</th>\n",
       "    </tr>\n",
       "    <tr>\n",
       "      <th></th>\n",
       "      <th>count</th>\n",
       "      <th>mean</th>\n",
       "      <th>std</th>\n",
       "      <th>min</th>\n",
       "      <th>25%</th>\n",
       "      <th>50%</th>\n",
       "      <th>75%</th>\n",
       "      <th>max</th>\n",
       "    </tr>\n",
       "    <tr>\n",
       "      <th>Sales method</th>\n",
       "      <th></th>\n",
       "      <th></th>\n",
       "      <th></th>\n",
       "      <th></th>\n",
       "      <th></th>\n",
       "      <th></th>\n",
       "      <th></th>\n",
       "      <th></th>\n",
       "    </tr>\n",
       "  </thead>\n",
       "  <tbody>\n",
       "    <tr>\n",
       "      <th>0</th>\n",
       "      <td>153.0</td>\n",
       "      <td>0.441819</td>\n",
       "      <td>0.039827</td>\n",
       "      <td>0.289898</td>\n",
       "      <td>0.418307</td>\n",
       "      <td>0.435086</td>\n",
       "      <td>0.461938</td>\n",
       "      <td>0.544837</td>\n",
       "    </tr>\n",
       "    <tr>\n",
       "      <th>1</th>\n",
       "      <td>852.0</td>\n",
       "      <td>0.421328</td>\n",
       "      <td>0.070157</td>\n",
       "      <td>0.118724</td>\n",
       "      <td>0.387352</td>\n",
       "      <td>0.421801</td>\n",
       "      <td>0.447213</td>\n",
       "      <td>0.803756</td>\n",
       "    </tr>\n",
       "  </tbody>\n",
       "</table>\n",
       "</div>"
      ],
      "text/plain": [
       "             One day excess return                                          \\\n",
       "                             count      mean       std       min       25%   \n",
       "Sales method                                                                 \n",
       "0                            153.0  0.441819  0.039827  0.289898  0.418307   \n",
       "1                            852.0  0.421328  0.070157  0.118724  0.387352   \n",
       "\n",
       "                                            \n",
       "                   50%       75%       max  \n",
       "Sales method                                \n",
       "0             0.435086  0.461938  0.544837  \n",
       "1             0.421801  0.447213  0.803756  "
      ]
     },
     "execution_count": 9,
     "metadata": {},
     "output_type": "execute_result"
    }
   ],
   "source": [
    "#按照发行方式的统计描述\n",
    "temp[['One day excess return','Sales method']].groupby(['Sales method']).describe()"
   ]
  },
  {
   "cell_type": "markdown",
   "metadata": {
    "hidden": true
   },
   "source": [
    "可以看出，在所有采用了上网定价方式的IPO公司中，还采用了网下询价的公司的抑价率要略低于未采用网下询价的公司。"
   ]
  },
  {
   "cell_type": "markdown",
   "metadata": {
    "heading_collapsed": true
   },
   "source": [
    "### IPO和行情的分析"
   ]
  },
  {
   "cell_type": "code",
   "execution_count": 10,
   "metadata": {
    "hidden": true
   },
   "outputs": [
    {
     "data": {
      "text/plain": [
       "<matplotlib.collections.PathCollection at 0x1b20fabcf28>"
      ]
     },
     "execution_count": 10,
     "metadata": {},
     "output_type": "execute_result"
    },
    {
     "data": {
      "image/png": "[encoded data removed]",
      "text/plain": [
       "<matplotlib.figure.Figure at 0x1b20f8d14e0>"
      ]
     },
     "metadata": {},
     "output_type": "display_data"
    }
   ],
   "source": [
    "#刻画21的上证指数回报率与新股首日日回报率的散点图\n",
    "temp1=ipo[['Stock market sentiment','One day excess return']]\n",
    "plt.scatter(temp1['Stock market sentiment'],temp1['One day excess return'])"
   ]
  },
  {
   "cell_type": "code",
   "execution_count": 11,
   "metadata": {
    "hidden": true
   },
   "outputs": [
    {
     "data": {
      "text/plain": [
       "<matplotlib.axes._subplots.AxesSubplot at 0x1b20faf49b0>"
      ]
     },
     "execution_count": 11,
     "metadata": {},
     "output_type": "execute_result"
    },
    {
     "data": {
      "image/png": "[encoded data removed]",
      "text/plain": [
       "<matplotlib.figure.Figure at 0x1b20f94e6a0>"
      ]
     },
     "metadata": {},
     "output_type": "display_data"
    }
   ],
   "source": [
    "#21的上证指数回报率的分组与新股首日日回报率的曲线图\n",
    "temp2=temp1.sort_values('Stock market sentiment')\n",
    "temp2['bins']=pd.cut(temp2['Stock market sentiment'],bins=5)\n",
    "temp2.groupby(['bins'])['One day excess return'].mean().plot()"
   ]
  },
  {
   "cell_type": "code",
   "execution_count": 12,
   "metadata": {
    "hidden": true
   },
   "outputs": [
    {
     "data": {
      "text/html": [
       "<div>\n",
       "<style scoped>\n",
       "    .dataframe tbody tr th:only-of-type {\n",
       "        vertical-align: middle;\n",
       "    }\n",
       "\n",
       "    .dataframe tbody tr th {\n",
       "        vertical-align: top;\n",
       "    }\n",
       "\n",
       "    .dataframe thead tr th {\n",
       "        text-align: left;\n",
       "    }\n",
       "\n",
       "    .dataframe thead tr:last-of-type th {\n",
       "        text-align: right;\n",
       "    }\n",
       "</style>\n",
       "<table border=\"1\" class=\"dataframe\">\n",
       "  <thead>\n",
       "    <tr>\n",
       "      <th></th>\n",
       "      <th colspan=\"8\" halign=\"left\">One day excess return</th>\n",
       "    </tr>\n",
       "    <tr>\n",
       "      <th></th>\n",
       "      <th>count</th>\n",
       "      <th>mean</th>\n",
       "      <th>std</th>\n",
       "      <th>min</th>\n",
       "      <th>25%</th>\n",
       "      <th>50%</th>\n",
       "      <th>75%</th>\n",
       "      <th>max</th>\n",
       "    </tr>\n",
       "    <tr>\n",
       "      <th>bins</th>\n",
       "      <th></th>\n",
       "      <th></th>\n",
       "      <th></th>\n",
       "      <th></th>\n",
       "      <th></th>\n",
       "      <th></th>\n",
       "      <th></th>\n",
       "      <th></th>\n",
       "    </tr>\n",
       "  </thead>\n",
       "  <tbody>\n",
       "    <tr>\n",
       "      <th>(-0.287, -0.192]</th>\n",
       "      <td>17.0</td>\n",
       "      <td>0.683630</td>\n",
       "      <td>0.092445</td>\n",
       "      <td>0.507173</td>\n",
       "      <td>0.676944</td>\n",
       "      <td>0.700026</td>\n",
       "      <td>0.739011</td>\n",
       "      <td>0.785454</td>\n",
       "    </tr>\n",
       "    <tr>\n",
       "      <th>(-0.192, -0.0978]</th>\n",
       "      <td>16.0</td>\n",
       "      <td>0.578668</td>\n",
       "      <td>0.116926</td>\n",
       "      <td>0.465992</td>\n",
       "      <td>0.466247</td>\n",
       "      <td>0.592995</td>\n",
       "      <td>0.623536</td>\n",
       "      <td>0.803756</td>\n",
       "    </tr>\n",
       "    <tr>\n",
       "      <th>(-0.0978, -0.00349]</th>\n",
       "      <td>272.0</td>\n",
       "      <td>0.449832</td>\n",
       "      <td>0.037570</td>\n",
       "      <td>0.342442</td>\n",
       "      <td>0.426274</td>\n",
       "      <td>0.448394</td>\n",
       "      <td>0.476302</td>\n",
       "      <td>0.544837</td>\n",
       "    </tr>\n",
       "    <tr>\n",
       "      <th>(-0.00349, 0.0908]</th>\n",
       "      <td>611.0</td>\n",
       "      <td>0.414229</td>\n",
       "      <td>0.043761</td>\n",
       "      <td>0.118724</td>\n",
       "      <td>0.393209</td>\n",
       "      <td>0.418772</td>\n",
       "      <td>0.437388</td>\n",
       "      <td>0.554606</td>\n",
       "    </tr>\n",
       "    <tr>\n",
       "      <th>(0.0908, 0.185]</th>\n",
       "      <td>89.0</td>\n",
       "      <td>0.339791</td>\n",
       "      <td>0.046740</td>\n",
       "      <td>0.257588</td>\n",
       "      <td>0.311941</td>\n",
       "      <td>0.340286</td>\n",
       "      <td>0.365143</td>\n",
       "      <td>0.528730</td>\n",
       "    </tr>\n",
       "  </tbody>\n",
       "</table>\n",
       "</div>"
      ],
      "text/plain": [
       "                    One day excess return                                \\\n",
       "                                    count      mean       std       min   \n",
       "bins                                                                      \n",
       "(-0.287, -0.192]                     17.0  0.683630  0.092445  0.507173   \n",
       "(-0.192, -0.0978]                    16.0  0.578668  0.116926  0.465992   \n",
       "(-0.0978, -0.00349]                 272.0  0.449832  0.037570  0.342442   \n",
       "(-0.00349, 0.0908]                  611.0  0.414229  0.043761  0.118724   \n",
       "(0.0908, 0.185]                      89.0  0.339791  0.046740  0.257588   \n",
       "\n",
       "                                                             \n",
       "                          25%       50%       75%       max  \n",
       "bins                                                         \n",
       "(-0.287, -0.192]     0.676944  0.700026  0.739011  0.785454  \n",
       "(-0.192, -0.0978]    0.466247  0.592995  0.623536  0.803756  \n",
       "(-0.0978, -0.00349]  0.426274  0.448394  0.476302  0.544837  \n",
       "(-0.00349, 0.0908]   0.393209  0.418772  0.437388  0.554606  \n",
       "(0.0908, 0.185]      0.311941  0.340286  0.365143  0.528730  "
      ]
     },
     "execution_count": 12,
     "metadata": {},
     "output_type": "execute_result"
    }
   ],
   "source": [
    "#按照21的上证指数回报率的分组对新股首日日回报率的统计描述\n",
    "temp2[['bins','One day excess return']].groupby(['bins']).describe()"
   ]
  },
  {
   "cell_type": "markdown",
   "metadata": {
    "heading_collapsed": true
   },
   "source": [
    "### IPO与发行价格的分析"
   ]
  },
  {
   "cell_type": "code",
   "execution_count": 13,
   "metadata": {
    "hidden": true
   },
   "outputs": [
    {
     "data": {
      "text/plain": [
       "<matplotlib.collections.PathCollection at 0x1b20fbb9eb8>"
      ]
     },
     "execution_count": 13,
     "metadata": {},
     "output_type": "execute_result"
    },
    {
     "data": {
      "image/png": "[encoded data removed]",
      "text/plain": [
       "<matplotlib.figure.Figure at 0x1b20fb96a20>"
      ]
     },
     "metadata": {},
     "output_type": "display_data"
    }
   ],
   "source": [
    "#刻画新股发行价格与新股首日日回报率的散点图\n",
    "temp1=ipo[['Offer price','One day excess return']]\n",
    "plt.scatter(temp1['Offer price'],temp1['One day excess return'])"
   ]
  },
  {
   "cell_type": "code",
   "execution_count": 14,
   "metadata": {
    "hidden": true
   },
   "outputs": [
    {
     "data": {
      "text/plain": [
       "<matplotlib.axes._subplots.AxesSubplot at 0x1b20fbc7c88>"
      ]
     },
     "execution_count": 14,
     "metadata": {},
     "output_type": "execute_result"
    },
    {
     "data": {
      "image/png": "[encoded data removed]",
      "text/plain": [
       "<matplotlib.figure.Figure at 0x1b20fbe6400>"
      ]
     },
     "metadata": {},
     "output_type": "display_data"
    }
   ],
   "source": [
    "#21的新股发行价格的分组与新股首日日回报率的曲线图\n",
    "temp2=temp1.sort_values('Offer price')\n",
    "temp2['bins']=pd.cut(temp2['Offer price'],bins=2)\n",
    "temp2.groupby(['bins'])['One day excess return'].mean().plot()"
   ]
  },
  {
   "cell_type": "code",
   "execution_count": 15,
   "metadata": {
    "hidden": true
   },
   "outputs": [
    {
     "data": {
      "text/html": [
       "<div>\n",
       "<style scoped>\n",
       "    .dataframe tbody tr th:only-of-type {\n",
       "        vertical-align: middle;\n",
       "    }\n",
       "\n",
       "    .dataframe tbody tr th {\n",
       "        vertical-align: top;\n",
       "    }\n",
       "\n",
       "    .dataframe thead tr th {\n",
       "        text-align: left;\n",
       "    }\n",
       "\n",
       "    .dataframe thead tr:last-of-type th {\n",
       "        text-align: right;\n",
       "    }\n",
       "</style>\n",
       "<table border=\"1\" class=\"dataframe\">\n",
       "  <thead>\n",
       "    <tr>\n",
       "      <th></th>\n",
       "      <th colspan=\"8\" halign=\"left\">One day excess return</th>\n",
       "    </tr>\n",
       "    <tr>\n",
       "      <th></th>\n",
       "      <th>count</th>\n",
       "      <th>mean</th>\n",
       "      <th>std</th>\n",
       "      <th>min</th>\n",
       "      <th>25%</th>\n",
       "      <th>50%</th>\n",
       "      <th>75%</th>\n",
       "      <th>max</th>\n",
       "    </tr>\n",
       "    <tr>\n",
       "      <th>bins</th>\n",
       "      <th></th>\n",
       "      <th></th>\n",
       "      <th></th>\n",
       "      <th></th>\n",
       "      <th></th>\n",
       "      <th></th>\n",
       "      <th></th>\n",
       "      <th></th>\n",
       "    </tr>\n",
       "  </thead>\n",
       "  <tbody>\n",
       "    <tr>\n",
       "      <th>(1.173, 44.965]</th>\n",
       "      <td>990.0</td>\n",
       "      <td>0.424837</td>\n",
       "      <td>0.066559</td>\n",
       "      <td>0.118724</td>\n",
       "      <td>0.393071</td>\n",
       "      <td>0.425343</td>\n",
       "      <td>0.450842</td>\n",
       "      <td>0.803756</td>\n",
       "    </tr>\n",
       "    <tr>\n",
       "      <th>(44.965, 88.67]</th>\n",
       "      <td>15.0</td>\n",
       "      <td>0.398740</td>\n",
       "      <td>0.081395</td>\n",
       "      <td>0.162652</td>\n",
       "      <td>0.410344</td>\n",
       "      <td>0.419773</td>\n",
       "      <td>0.434065</td>\n",
       "      <td>0.492467</td>\n",
       "    </tr>\n",
       "  </tbody>\n",
       "</table>\n",
       "</div>"
      ],
      "text/plain": [
       "                One day excess return                                          \\\n",
       "                                count      mean       std       min       25%   \n",
       "bins                                                                            \n",
       "(1.173, 44.965]                 990.0  0.424837  0.066559  0.118724  0.393071   \n",
       "(44.965, 88.67]                  15.0  0.398740  0.081395  0.162652  0.410344   \n",
       "\n",
       "                                               \n",
       "                      50%       75%       max  \n",
       "bins                                           \n",
       "(1.173, 44.965]  0.425343  0.450842  0.803756  \n",
       "(44.965, 88.67]  0.419773  0.434065  0.492467  "
      ]
     },
     "execution_count": 15,
     "metadata": {},
     "output_type": "execute_result"
    }
   ],
   "source": [
    "#按照新股发行价格的分组对新股首日日回报率的统计描述\n",
    "temp2[['bins','One day excess return']].groupby(['bins']).describe()"
   ]
  },
  {
   "cell_type": "markdown",
   "metadata": {
    "hidden": true
   },
   "source": [
    "可以看出大部分的上市公司发行价格较低，抑价率也较高。仅有少数公司的发行价格较高。"
   ]
  },
  {
   "cell_type": "markdown",
   "metadata": {
    "heading_collapsed": true
   },
   "source": [
    "### IPO与公司成立年限的分析"
   ]
  },
  {
   "cell_type": "code",
   "execution_count": 16,
   "metadata": {
    "hidden": true
   },
   "outputs": [
    {
     "data": {
      "text/plain": [
       "<matplotlib.collections.PathCollection at 0x1b20fc92828>"
      ]
     },
     "execution_count": 16,
     "metadata": {},
     "output_type": "execute_result"
    },
    {
     "data": {
      "image/png": "[encoded data removed]",
      "text/plain": [
       "<matplotlib.figure.Figure at 0x1b20fa63208>"
      ]
     },
     "metadata": {},
     "output_type": "display_data"
    }
   ],
   "source": [
    "#刻画公司成立年限与新股首日日回报率的散点图\n",
    "temp1=ipo[['Firm age','One day excess return']]\n",
    "plt.scatter(temp1['Firm age'],temp1['One day excess return'])"
   ]
  },
  {
   "cell_type": "code",
   "execution_count": 17,
   "metadata": {
    "hidden": true
   },
   "outputs": [
    {
     "data": {
      "text/plain": [
       "<matplotlib.axes._subplots.AxesSubplot at 0x1b20fc78160>"
      ]
     },
     "execution_count": 17,
     "metadata": {},
     "output_type": "execute_result"
    },
    {
     "data": {
      "image/png": "[encoded data removed]",
      "text/plain": [
       "<matplotlib.figure.Figure at 0x1b20fc66588>"
      ]
     },
     "metadata": {},
     "output_type": "display_data"
    }
   ],
   "source": [
    "#公司成立年限的分组与新股首日日回报率的曲线图\n",
    "temp2=temp1.sort_values('Firm age')\n",
    "temp2['bins']=pd.cut(temp2['Firm age'],bins=3)\n",
    "temp2.groupby(['bins'])['One day excess return'].mean().plot()"
   ]
  },
  {
   "cell_type": "code",
   "execution_count": 18,
   "metadata": {
    "hidden": true
   },
   "outputs": [
    {
     "data": {
      "text/html": [
       "<div>\n",
       "<style scoped>\n",
       "    .dataframe tbody tr th:only-of-type {\n",
       "        vertical-align: middle;\n",
       "    }\n",
       "\n",
       "    .dataframe tbody tr th {\n",
       "        vertical-align: top;\n",
       "    }\n",
       "\n",
       "    .dataframe thead tr th {\n",
       "        text-align: left;\n",
       "    }\n",
       "\n",
       "    .dataframe thead tr:last-of-type th {\n",
       "        text-align: right;\n",
       "    }\n",
       "</style>\n",
       "<table border=\"1\" class=\"dataframe\">\n",
       "  <thead>\n",
       "    <tr>\n",
       "      <th></th>\n",
       "      <th colspan=\"8\" halign=\"left\">One day excess return</th>\n",
       "    </tr>\n",
       "    <tr>\n",
       "      <th></th>\n",
       "      <th>count</th>\n",
       "      <th>mean</th>\n",
       "      <th>std</th>\n",
       "      <th>min</th>\n",
       "      <th>25%</th>\n",
       "      <th>50%</th>\n",
       "      <th>75%</th>\n",
       "      <th>max</th>\n",
       "    </tr>\n",
       "    <tr>\n",
       "      <th>bins</th>\n",
       "      <th></th>\n",
       "      <th></th>\n",
       "      <th></th>\n",
       "      <th></th>\n",
       "      <th></th>\n",
       "      <th></th>\n",
       "      <th></th>\n",
       "      <th></th>\n",
       "    </tr>\n",
       "  </thead>\n",
       "  <tbody>\n",
       "    <tr>\n",
       "      <th>(1.023, 12.544]</th>\n",
       "      <td>419.0</td>\n",
       "      <td>0.419501</td>\n",
       "      <td>0.069878</td>\n",
       "      <td>0.118724</td>\n",
       "      <td>0.384711</td>\n",
       "      <td>0.419872</td>\n",
       "      <td>0.447167</td>\n",
       "      <td>0.785454</td>\n",
       "    </tr>\n",
       "    <tr>\n",
       "      <th>(12.544, 24.031]</th>\n",
       "      <td>558.0</td>\n",
       "      <td>0.427537</td>\n",
       "      <td>0.065456</td>\n",
       "      <td>0.223207</td>\n",
       "      <td>0.401067</td>\n",
       "      <td>0.426172</td>\n",
       "      <td>0.451690</td>\n",
       "      <td>0.803756</td>\n",
       "    </tr>\n",
       "    <tr>\n",
       "      <th>(24.031, 35.518]</th>\n",
       "      <td>28.0</td>\n",
       "      <td>0.436903</td>\n",
       "      <td>0.036873</td>\n",
       "      <td>0.340268</td>\n",
       "      <td>0.418083</td>\n",
       "      <td>0.433571</td>\n",
       "      <td>0.457906</td>\n",
       "      <td>0.500829</td>\n",
       "    </tr>\n",
       "  </tbody>\n",
       "</table>\n",
       "</div>"
      ],
      "text/plain": [
       "                 One day excess return                                \\\n",
       "                                 count      mean       std       min   \n",
       "bins                                                                   \n",
       "(1.023, 12.544]                  419.0  0.419501  0.069878  0.118724   \n",
       "(12.544, 24.031]                 558.0  0.427537  0.065456  0.223207   \n",
       "(24.031, 35.518]                  28.0  0.436903  0.036873  0.340268   \n",
       "\n",
       "                                                          \n",
       "                       25%       50%       75%       max  \n",
       "bins                                                      \n",
       "(1.023, 12.544]   0.384711  0.419872  0.447167  0.785454  \n",
       "(12.544, 24.031]  0.401067  0.426172  0.451690  0.803756  \n",
       "(24.031, 35.518]  0.418083  0.433571  0.457906  0.500829  "
      ]
     },
     "execution_count": 18,
     "metadata": {},
     "output_type": "execute_result"
    }
   ],
   "source": [
    "#按照公司成立年限的分组对新股首日日回报率的统计描述\n",
    "temp2[['bins','One day excess return']].groupby(['bins']).describe()"
   ]
  },
  {
   "cell_type": "markdown",
   "metadata": {
    "hidden": true
   },
   "source": [
    "公司的成立年限越长，IPO抑价率将会越高"
   ]
  },
  {
   "cell_type": "markdown",
   "metadata": {
    "heading_collapsed": true
   },
   "source": [
    "### IPO与资金周转率的分析"
   ]
  },
  {
   "cell_type": "code",
   "execution_count": 45,
   "metadata": {
    "hidden": true
   },
   "outputs": [
    {
     "data": {
      "text/plain": [
       "<matplotlib.collections.PathCollection at 0x1b211401d68>"
      ]
     },
     "execution_count": 45,
     "metadata": {},
     "output_type": "execute_result"
    },
    {
     "data": {
      "image/png": "[encoded data removed]",
      "text/plain": [
       "<matplotlib.figure.Figure at 0x1b211401668>"
      ]
     },
     "metadata": {},
     "output_type": "display_data"
    }
   ],
   "source": [
    "#刻画资产周转率与新股首日日回报率的散点图\n",
    "temp1=ipo[['Total assets turnover rate','One day excess return']]\n",
    "plt.scatter(temp1['Total assets turnover rate'],temp1['One day excess return'])"
   ]
  },
  {
   "cell_type": "code",
   "execution_count": 48,
   "metadata": {
    "hidden": true
   },
   "outputs": [
    {
     "data": {
      "text/plain": [
       "<matplotlib.axes._subplots.AxesSubplot at 0x1b20fef8320>"
      ]
     },
     "execution_count": 48,
     "metadata": {},
     "output_type": "execute_result"
    },
    {
     "data": {
      "image/png": "[encoded data removed]",
      "text/plain": [
       "<matplotlib.figure.Figure at 0x1b20ff3be48>"
      ]
     },
     "metadata": {},
     "output_type": "display_data"
    }
   ],
   "source": [
    "#资产周转率的分组与新股首日日回报率的曲线图\n",
    "temp2=temp1.sort_values('Total assets turnover rate')\n",
    "temp2['bins']=pd.cut(temp2['Total assets turnover rate'],bins=5)\n",
    "temp2.groupby(['bins'])['One day excess return'].mean().plot()"
   ]
  },
  {
   "cell_type": "code",
   "execution_count": 49,
   "metadata": {
    "hidden": true
   },
   "outputs": [
    {
     "data": {
      "text/html": [
       "<div>\n",
       "<style scoped>\n",
       "    .dataframe tbody tr th:only-of-type {\n",
       "        vertical-align: middle;\n",
       "    }\n",
       "\n",
       "    .dataframe tbody tr th {\n",
       "        vertical-align: top;\n",
       "    }\n",
       "\n",
       "    .dataframe thead tr th {\n",
       "        text-align: left;\n",
       "    }\n",
       "\n",
       "    .dataframe thead tr:last-of-type th {\n",
       "        text-align: right;\n",
       "    }\n",
       "</style>\n",
       "<table border=\"1\" class=\"dataframe\">\n",
       "  <thead>\n",
       "    <tr>\n",
       "      <th></th>\n",
       "      <th colspan=\"8\" halign=\"left\">One day excess return</th>\n",
       "    </tr>\n",
       "    <tr>\n",
       "      <th></th>\n",
       "      <th>count</th>\n",
       "      <th>mean</th>\n",
       "      <th>std</th>\n",
       "      <th>min</th>\n",
       "      <th>25%</th>\n",
       "      <th>50%</th>\n",
       "      <th>75%</th>\n",
       "      <th>max</th>\n",
       "    </tr>\n",
       "    <tr>\n",
       "      <th>bins</th>\n",
       "      <th></th>\n",
       "      <th></th>\n",
       "      <th></th>\n",
       "      <th></th>\n",
       "      <th></th>\n",
       "      <th></th>\n",
       "      <th></th>\n",
       "      <th></th>\n",
       "    </tr>\n",
       "  </thead>\n",
       "  <tbody>\n",
       "    <tr>\n",
       "      <th>(-0.00317, 0.894]</th>\n",
       "      <td>856.0</td>\n",
       "      <td>0.426995</td>\n",
       "      <td>0.066150</td>\n",
       "      <td>0.118724</td>\n",
       "      <td>0.395201</td>\n",
       "      <td>0.425733</td>\n",
       "      <td>0.451905</td>\n",
       "      <td>0.803756</td>\n",
       "    </tr>\n",
       "    <tr>\n",
       "      <th>(0.894, 1.786]</th>\n",
       "      <td>139.0</td>\n",
       "      <td>0.408589</td>\n",
       "      <td>0.069061</td>\n",
       "      <td>0.162652</td>\n",
       "      <td>0.379951</td>\n",
       "      <td>0.418760</td>\n",
       "      <td>0.441452</td>\n",
       "      <td>0.703673</td>\n",
       "    </tr>\n",
       "    <tr>\n",
       "      <th>(1.786, 2.679]</th>\n",
       "      <td>9.0</td>\n",
       "      <td>0.428232</td>\n",
       "      <td>0.074040</td>\n",
       "      <td>0.287302</td>\n",
       "      <td>0.399890</td>\n",
       "      <td>0.431058</td>\n",
       "      <td>0.480588</td>\n",
       "      <td>0.546389</td>\n",
       "    </tr>\n",
       "    <tr>\n",
       "      <th>(2.679, 3.571]</th>\n",
       "      <td>0.0</td>\n",
       "      <td>NaN</td>\n",
       "      <td>NaN</td>\n",
       "      <td>NaN</td>\n",
       "      <td>NaN</td>\n",
       "      <td>NaN</td>\n",
       "      <td>NaN</td>\n",
       "      <td>NaN</td>\n",
       "    </tr>\n",
       "    <tr>\n",
       "      <th>(3.571, 4.464]</th>\n",
       "      <td>1.0</td>\n",
       "      <td>0.414041</td>\n",
       "      <td>NaN</td>\n",
       "      <td>0.414041</td>\n",
       "      <td>0.414041</td>\n",
       "      <td>0.414041</td>\n",
       "      <td>0.414041</td>\n",
       "      <td>0.414041</td>\n",
       "    </tr>\n",
       "  </tbody>\n",
       "</table>\n",
       "</div>"
      ],
      "text/plain": [
       "                  One day excess return                                \\\n",
       "                                  count      mean       std       min   \n",
       "bins                                                                    \n",
       "(-0.00317, 0.894]                 856.0  0.426995  0.066150  0.118724   \n",
       "(0.894, 1.786]                    139.0  0.408589  0.069061  0.162652   \n",
       "(1.786, 2.679]                      9.0  0.428232  0.074040  0.287302   \n",
       "(2.679, 3.571]                      0.0       NaN       NaN       NaN   \n",
       "(3.571, 4.464]                      1.0  0.414041       NaN  0.414041   \n",
       "\n",
       "                                                           \n",
       "                        25%       50%       75%       max  \n",
       "bins                                                       \n",
       "(-0.00317, 0.894]  0.395201  0.425733  0.451905  0.803756  \n",
       "(0.894, 1.786]     0.379951  0.418760  0.441452  0.703673  \n",
       "(1.786, 2.679]     0.399890  0.431058  0.480588  0.546389  \n",
       "(2.679, 3.571]          NaN       NaN       NaN       NaN  \n",
       "(3.571, 4.464]     0.414041  0.414041  0.414041  0.414041  "
      ]
     },
     "execution_count": 49,
     "metadata": {},
     "output_type": "execute_result"
    }
   ],
   "source": [
    "#按照资产周转率的分组对新股首日日回报率的统计描述\n",
    "temp2[['bins','One day excess return']].groupby(['bins']).describe()"
   ]
  },
  {
   "cell_type": "markdown",
   "metadata": {
    "hidden": true
   },
   "source": [
    "去除极端值的影响，资产的周转率大致可以分成两组，资产的周转率高的组，其平均抑价率要略低于资产周转率低的组。"
   ]
  },
  {
   "cell_type": "markdown",
   "metadata": {
    "heading_collapsed": true
   },
   "source": [
    "### IPO与总资产的分析"
   ]
  },
  {
   "cell_type": "code",
   "execution_count": 35,
   "metadata": {
    "hidden": true
   },
   "outputs": [
    {
     "data": {
      "text/plain": [
       "<matplotlib.collections.PathCollection at 0x1b210392e48>"
      ]
     },
     "execution_count": 35,
     "metadata": {},
     "output_type": "execute_result"
    },
    {
     "data": {
      "image/png": "[encoded data removed]",
      "text/plain": [
       "<matplotlib.figure.Figure at 0x1b210362710>"
      ]
     },
     "metadata": {},
     "output_type": "display_data"
    }
   ],
   "source": [
    "#刻画总资产与新股首日日回报率的散点图\n",
    "temp1=ipo[['Total assets','One day excess return']]\n",
    "plt.scatter(temp1['Total assets'],temp1['One day excess return'])"
   ]
  },
  {
   "cell_type": "markdown",
   "metadata": {
    "hidden": true
   },
   "source": [
    "大部分公司的总资产差不多，分布比较集中，总资产与抑价率之间没有明显的线性相关性。"
   ]
  },
  {
   "cell_type": "markdown",
   "metadata": {
    "heading_collapsed": true
   },
   "source": [
    "### 连续变量的统计描述"
   ]
  },
  {
   "cell_type": "code",
   "execution_count": 25,
   "metadata": {
    "hidden": true
   },
   "outputs": [
    {
     "data": {
      "text/html": [
       "<div>\n",
       "<style scoped>\n",
       "    .dataframe tbody tr th:only-of-type {\n",
       "        vertical-align: middle;\n",
       "    }\n",
       "\n",
       "    .dataframe tbody tr th {\n",
       "        vertical-align: top;\n",
       "    }\n",
       "\n",
       "    .dataframe thead th {\n",
       "        text-align: right;\n",
       "    }\n",
       "</style>\n",
       "<table border=\"1\" class=\"dataframe\">\n",
       "  <thead>\n",
       "    <tr style=\"text-align: right;\">\n",
       "      <th></th>\n",
       "      <th>count</th>\n",
       "      <th>mean</th>\n",
       "      <th>std</th>\n",
       "      <th>min</th>\n",
       "      <th>25%</th>\n",
       "      <th>50%</th>\n",
       "      <th>75%</th>\n",
       "      <th>max</th>\n",
       "    </tr>\n",
       "  </thead>\n",
       "  <tbody>\n",
       "    <tr>\n",
       "      <th>Total assets</th>\n",
       "      <td>1005.0</td>\n",
       "      <td>7.352785e+09</td>\n",
       "      <td>7.192998e+10</td>\n",
       "      <td>1.665745e+08</td>\n",
       "      <td>4.757266e+08</td>\n",
       "      <td>7.478567e+08</td>\n",
       "      <td>1.452455e+09</td>\n",
       "      <td>1.650924e+12</td>\n",
       "    </tr>\n",
       "    <tr>\n",
       "      <th>Total debts</th>\n",
       "      <td>1005.0</td>\n",
       "      <td>6.066864e+09</td>\n",
       "      <td>6.724675e+10</td>\n",
       "      <td>1.223968e+07</td>\n",
       "      <td>1.464144e+08</td>\n",
       "      <td>2.957967e+08</td>\n",
       "      <td>7.112413e+08</td>\n",
       "      <td>1.547106e+12</td>\n",
       "    </tr>\n",
       "    <tr>\n",
       "      <th>Cash flow from operations</th>\n",
       "      <td>1005.0</td>\n",
       "      <td>3.480139e+08</td>\n",
       "      <td>4.006169e+09</td>\n",
       "      <td>-5.464491e+09</td>\n",
       "      <td>-3.474557e+05</td>\n",
       "      <td>3.743735e+07</td>\n",
       "      <td>9.209792e+07</td>\n",
       "      <td>1.049198e+11</td>\n",
       "    </tr>\n",
       "    <tr>\n",
       "      <th>Sales</th>\n",
       "      <td>1005.0</td>\n",
       "      <td>1.008687e+09</td>\n",
       "      <td>2.944993e+09</td>\n",
       "      <td>8.819554e+05</td>\n",
       "      <td>1.898927e+08</td>\n",
       "      <td>3.862058e+08</td>\n",
       "      <td>7.980865e+08</td>\n",
       "      <td>4.796327e+10</td>\n",
       "    </tr>\n",
       "    <tr>\n",
       "      <th>Operating profit</th>\n",
       "      <td>1005.0</td>\n",
       "      <td>1.557077e+08</td>\n",
       "      <td>6.509000e+08</td>\n",
       "      <td>-3.800331e+07</td>\n",
       "      <td>2.918254e+07</td>\n",
       "      <td>5.449524e+07</td>\n",
       "      <td>1.094049e+08</td>\n",
       "      <td>1.240932e+10</td>\n",
       "    </tr>\n",
       "    <tr>\n",
       "      <th>Net income</th>\n",
       "      <td>1005.0</td>\n",
       "      <td>1.359925e+08</td>\n",
       "      <td>5.535242e+08</td>\n",
       "      <td>-2.790031e+07</td>\n",
       "      <td>2.703901e+07</td>\n",
       "      <td>5.041203e+07</td>\n",
       "      <td>9.445033e+07</td>\n",
       "      <td>1.094200e+10</td>\n",
       "    </tr>\n",
       "    <tr>\n",
       "      <th>Offer price</th>\n",
       "      <td>1005.0</td>\n",
       "      <td>1.452804e+01</td>\n",
       "      <td>9.039037e+00</td>\n",
       "      <td>1.260000e+00</td>\n",
       "      <td>8.779997e+00</td>\n",
       "      <td>1.237000e+01</td>\n",
       "      <td>1.802999e+01</td>\n",
       "      <td>8.866999e+01</td>\n",
       "    </tr>\n",
       "    <tr>\n",
       "      <th>number of shares sold</th>\n",
       "      <td>1005.0</td>\n",
       "      <td>5.800070e+03</td>\n",
       "      <td>1.715753e+04</td>\n",
       "      <td>1.000000e+03</td>\n",
       "      <td>2.000000e+03</td>\n",
       "      <td>2.889000e+03</td>\n",
       "      <td>5.000000e+03</td>\n",
       "      <td>3.891000e+05</td>\n",
       "    </tr>\n",
       "    <tr>\n",
       "      <th>ROA1</th>\n",
       "      <td>1005.0</td>\n",
       "      <td>7.415042e-02</td>\n",
       "      <td>5.885633e-02</td>\n",
       "      <td>-4.808133e-02</td>\n",
       "      <td>3.159709e-02</td>\n",
       "      <td>6.092397e-02</td>\n",
       "      <td>1.022649e-01</td>\n",
       "      <td>4.764298e-01</td>\n",
       "    </tr>\n",
       "    <tr>\n",
       "      <th>ROA2</th>\n",
       "      <td>1005.0</td>\n",
       "      <td>8.169868e-02</td>\n",
       "      <td>6.538665e-02</td>\n",
       "      <td>-5.739027e-02</td>\n",
       "      <td>3.467298e-02</td>\n",
       "      <td>6.926399e-02</td>\n",
       "      <td>1.126929e-01</td>\n",
       "      <td>4.941597e-01</td>\n",
       "    </tr>\n",
       "    <tr>\n",
       "      <th>Total assets turnover rate</th>\n",
       "      <td>1005.0</td>\n",
       "      <td>5.543915e-01</td>\n",
       "      <td>3.875417e-01</td>\n",
       "      <td>1.288557e-03</td>\n",
       "      <td>2.843632e-01</td>\n",
       "      <td>4.826175e-01</td>\n",
       "      <td>7.315897e-01</td>\n",
       "      <td>4.463547e+00</td>\n",
       "    </tr>\n",
       "    <tr>\n",
       "      <th>Debt ratio</th>\n",
       "      <td>1005.0</td>\n",
       "      <td>5.920421e-01</td>\n",
       "      <td>1.783392e-01</td>\n",
       "      <td>1.797141e-02</td>\n",
       "      <td>4.739080e-01</td>\n",
       "      <td>6.040136e-01</td>\n",
       "      <td>7.207198e-01</td>\n",
       "      <td>9.552950e-01</td>\n",
       "    </tr>\n",
       "    <tr>\n",
       "      <th>Firm age</th>\n",
       "      <td>1005.0</td>\n",
       "      <td>1.373813e+01</td>\n",
       "      <td>5.297101e+00</td>\n",
       "      <td>1.057534e+00</td>\n",
       "      <td>9.934247e+00</td>\n",
       "      <td>1.360274e+01</td>\n",
       "      <td>1.696438e+01</td>\n",
       "      <td>3.551781e+01</td>\n",
       "    </tr>\n",
       "    <tr>\n",
       "      <th>Issue proceeds(USD)</th>\n",
       "      <td>1005.0</td>\n",
       "      <td>9.449093e+03</td>\n",
       "      <td>2.031948e+04</td>\n",
       "      <td>1.156146e+03</td>\n",
       "      <td>3.901264e+03</td>\n",
       "      <td>5.715128e+03</td>\n",
       "      <td>9.331954e+03</td>\n",
       "      <td>4.916459e+05</td>\n",
       "    </tr>\n",
       "    <tr>\n",
       "      <th>Stock market sentiment</th>\n",
       "      <td>1005.0</td>\n",
       "      <td>1.384880e-02</td>\n",
       "      <td>6.282566e-02</td>\n",
       "      <td>-2.863588e-01</td>\n",
       "      <td>-7.151050e-03</td>\n",
       "      <td>1.077444e-02</td>\n",
       "      <td>3.312379e-02</td>\n",
       "      <td>1.850970e-01</td>\n",
       "    </tr>\n",
       "  </tbody>\n",
       "</table>\n",
       "</div>"
      ],
      "text/plain": [
       "                             count          mean           std           min  \\\n",
       "Total assets                1005.0  7.352785e+09  7.192998e+10  1.665745e+08   \n",
       "Total debts                 1005.0  6.066864e+09  6.724675e+10  1.223968e+07   \n",
       "Cash flow from operations   1005.0  3.480139e+08  4.006169e+09 -5.464491e+09   \n",
       "Sales                       1005.0  1.008687e+09  2.944993e+09  8.819554e+05   \n",
       "Operating profit            1005.0  1.557077e+08  6.509000e+08 -3.800331e+07   \n",
       "Net income                  1005.0  1.359925e+08  5.535242e+08 -2.790031e+07   \n",
       "Offer price                 1005.0  1.452804e+01  9.039037e+00  1.260000e+00   \n",
       "number of shares sold       1005.0  5.800070e+03  1.715753e+04  1.000000e+03   \n",
       "ROA1                        1005.0  7.415042e-02  5.885633e-02 -4.808133e-02   \n",
       "ROA2                        1005.0  8.169868e-02  6.538665e-02 -5.739027e-02   \n",
       "Total assets turnover rate  1005.0  5.543915e-01  3.875417e-01  1.288557e-03   \n",
       "Debt ratio                  1005.0  5.920421e-01  1.783392e-01  1.797141e-02   \n",
       "Firm age                    1005.0  1.373813e+01  5.297101e+00  1.057534e+00   \n",
       "Issue proceeds(USD)         1005.0  9.449093e+03  2.031948e+04  1.156146e+03   \n",
       "Stock market sentiment      1005.0  1.384880e-02  6.282566e-02 -2.863588e-01   \n",
       "\n",
       "                                     25%           50%           75%  \\\n",
       "Total assets                4.757266e+08  7.478567e+08  1.452455e+09   \n",
       "Total debts                 1.464144e+08  2.957967e+08  7.112413e+08   \n",
       "Cash flow from operations  -3.474557e+05  3.743735e+07  9.209792e+07   \n",
       "Sales                       1.898927e+08  3.862058e+08  7.980865e+08   \n",
       "Operating profit            2.918254e+07  5.449524e+07  1.094049e+08   \n",
       "Net income                  2.703901e+07  5.041203e+07  9.445033e+07   \n",
       "Offer price                 8.779997e+00  1.237000e+01  1.802999e+01   \n",
       "number of shares sold       2.000000e+03  2.889000e+03  5.000000e+03   \n",
       "ROA1                        3.159709e-02  6.092397e-02  1.022649e-01   \n",
       "ROA2                        3.467298e-02  6.926399e-02  1.126929e-01   \n",
       "Total assets turnover rate  2.843632e-01  4.826175e-01  7.315897e-01   \n",
       "Debt ratio                  4.739080e-01  6.040136e-01  7.207198e-01   \n",
       "Firm age                    9.934247e+00  1.360274e+01  1.696438e+01   \n",
       "Issue proceeds(USD)         3.901264e+03  5.715128e+03  9.331954e+03   \n",
       "Stock market sentiment     -7.151050e-03  1.077444e-02  3.312379e-02   \n",
       "\n",
       "                                     max  \n",
       "Total assets                1.650924e+12  \n",
       "Total debts                 1.547106e+12  \n",
       "Cash flow from operations   1.049198e+11  \n",
       "Sales                       4.796327e+10  \n",
       "Operating profit            1.240932e+10  \n",
       "Net income                  1.094200e+10  \n",
       "Offer price                 8.866999e+01  \n",
       "number of shares sold       3.891000e+05  \n",
       "ROA1                        4.764298e-01  \n",
       "ROA2                        4.941597e-01  \n",
       "Total assets turnover rate  4.463547e+00  \n",
       "Debt ratio                  9.552950e-01  \n",
       "Firm age                    3.551781e+01  \n",
       "Issue proceeds(USD)         4.916459e+05  \n",
       "Stock market sentiment      1.850970e-01  "
      ]
     },
     "execution_count": 25,
     "metadata": {},
     "output_type": "execute_result"
    }
   ],
   "source": [
    "#对连续变量进行统计描述\n",
    "data=ipo.drop(['Stkcd','Sales method','One day excess return','year'],axis=1)\n",
    "data.describe().T"
   ]
  },
  {
   "cell_type": "markdown",
   "metadata": {
    "heading_collapsed": true
   },
   "source": [
    "### 连续变量间的相关性检验"
   ]
  },
  {
   "cell_type": "code",
   "execution_count": 26,
   "metadata": {
    "hidden": true
   },
   "outputs": [
    {
     "data": {
      "text/html": [
       "<div>\n",
       "<style scoped>\n",
       "    .dataframe tbody tr th:only-of-type {\n",
       "        vertical-align: middle;\n",
       "    }\n",
       "\n",
       "    .dataframe tbody tr th {\n",
       "        vertical-align: top;\n",
       "    }\n",
       "\n",
       "    .dataframe thead th {\n",
       "        text-align: right;\n",
       "    }\n",
       "</style>\n",
       "<table border=\"1\" class=\"dataframe\">\n",
       "  <thead>\n",
       "    <tr style=\"text-align: right;\">\n",
       "      <th></th>\n",
       "      <th>Total assets</th>\n",
       "      <th>Total debts</th>\n",
       "      <th>Cash flow from operations</th>\n",
       "      <th>Sales</th>\n",
       "      <th>Operating profit</th>\n",
       "      <th>Net income</th>\n",
       "      <th>Offer price</th>\n",
       "      <th>number of shares sold</th>\n",
       "      <th>ROA1</th>\n",
       "      <th>ROA2</th>\n",
       "      <th>Total assets turnover rate</th>\n",
       "      <th>Debt ratio</th>\n",
       "      <th>Firm age</th>\n",
       "      <th>Issue proceeds(USD)</th>\n",
       "      <th>Stock market sentiment</th>\n",
       "    </tr>\n",
       "  </thead>\n",
       "  <tbody>\n",
       "    <tr>\n",
       "      <th>Total assets</th>\n",
       "      <td>1.000000</td>\n",
       "      <td>0.999229</td>\n",
       "      <td>0.943218</td>\n",
       "      <td>0.459857</td>\n",
       "      <td>0.921093</td>\n",
       "      <td>0.913230</td>\n",
       "      <td>-0.033190</td>\n",
       "      <td>0.400885</td>\n",
       "      <td>-0.096758</td>\n",
       "      <td>-0.094711</td>\n",
       "      <td>-0.110156</td>\n",
       "      <td>-0.239344</td>\n",
       "      <td>0.024070</td>\n",
       "      <td>0.487297</td>\n",
       "      <td>-0.028994</td>\n",
       "    </tr>\n",
       "    <tr>\n",
       "      <th>Total debts</th>\n",
       "      <td>0.999229</td>\n",
       "      <td>1.000000</td>\n",
       "      <td>0.942989</td>\n",
       "      <td>0.448133</td>\n",
       "      <td>0.910283</td>\n",
       "      <td>0.901643</td>\n",
       "      <td>-0.030868</td>\n",
       "      <td>0.373443</td>\n",
       "      <td>-0.093459</td>\n",
       "      <td>-0.091703</td>\n",
       "      <td>-0.106725</td>\n",
       "      <td>-0.233094</td>\n",
       "      <td>0.026092</td>\n",
       "      <td>0.464172</td>\n",
       "      <td>-0.027236</td>\n",
       "    </tr>\n",
       "    <tr>\n",
       "      <th>Cash flow from operations</th>\n",
       "      <td>0.943218</td>\n",
       "      <td>0.942989</td>\n",
       "      <td>1.000000</td>\n",
       "      <td>0.401356</td>\n",
       "      <td>0.833616</td>\n",
       "      <td>0.838217</td>\n",
       "      <td>-0.004123</td>\n",
       "      <td>0.313397</td>\n",
       "      <td>-0.066892</td>\n",
       "      <td>-0.064695</td>\n",
       "      <td>-0.081650</td>\n",
       "      <td>-0.199680</td>\n",
       "      <td>0.038458</td>\n",
       "      <td>0.457046</td>\n",
       "      <td>-0.018989</td>\n",
       "    </tr>\n",
       "    <tr>\n",
       "      <th>Sales</th>\n",
       "      <td>0.459857</td>\n",
       "      <td>0.448133</td>\n",
       "      <td>0.401356</td>\n",
       "      <td>1.000000</td>\n",
       "      <td>0.563045</td>\n",
       "      <td>0.571961</td>\n",
       "      <td>-0.033315</td>\n",
       "      <td>0.477881</td>\n",
       "      <td>-0.070407</td>\n",
       "      <td>-0.058943</td>\n",
       "      <td>0.158910</td>\n",
       "      <td>-0.330354</td>\n",
       "      <td>-0.055023</td>\n",
       "      <td>0.348903</td>\n",
       "      <td>0.006415</td>\n",
       "    </tr>\n",
       "    <tr>\n",
       "      <th>Operating profit</th>\n",
       "      <td>0.921093</td>\n",
       "      <td>0.910283</td>\n",
       "      <td>0.833616</td>\n",
       "      <td>0.563045</td>\n",
       "      <td>1.000000</td>\n",
       "      <td>0.993332</td>\n",
       "      <td>0.012557</td>\n",
       "      <td>0.580959</td>\n",
       "      <td>-0.027394</td>\n",
       "      <td>-0.016563</td>\n",
       "      <td>-0.060530</td>\n",
       "      <td>-0.252759</td>\n",
       "      <td>-0.000626</td>\n",
       "      <td>0.622774</td>\n",
       "      <td>-0.026192</td>\n",
       "    </tr>\n",
       "    <tr>\n",
       "      <th>Net income</th>\n",
       "      <td>0.913230</td>\n",
       "      <td>0.901643</td>\n",
       "      <td>0.838217</td>\n",
       "      <td>0.571961</td>\n",
       "      <td>0.993332</td>\n",
       "      <td>1.000000</td>\n",
       "      <td>0.013057</td>\n",
       "      <td>0.622726</td>\n",
       "      <td>-0.023671</td>\n",
       "      <td>-0.016954</td>\n",
       "      <td>-0.059683</td>\n",
       "      <td>-0.251974</td>\n",
       "      <td>-0.005760</td>\n",
       "      <td>0.627783</td>\n",
       "      <td>-0.022314</td>\n",
       "    </tr>\n",
       "    <tr>\n",
       "      <th>Offer price</th>\n",
       "      <td>-0.033190</td>\n",
       "      <td>-0.030868</td>\n",
       "      <td>-0.004123</td>\n",
       "      <td>-0.033315</td>\n",
       "      <td>0.012557</td>\n",
       "      <td>0.013057</td>\n",
       "      <td>1.000000</td>\n",
       "      <td>-0.147350</td>\n",
       "      <td>0.435881</td>\n",
       "      <td>0.447412</td>\n",
       "      <td>0.171446</td>\n",
       "      <td>0.120481</td>\n",
       "      <td>0.009838</td>\n",
       "      <td>0.101055</td>\n",
       "      <td>-0.003913</td>\n",
       "    </tr>\n",
       "    <tr>\n",
       "      <th>number of shares sold</th>\n",
       "      <td>0.400885</td>\n",
       "      <td>0.373443</td>\n",
       "      <td>0.313397</td>\n",
       "      <td>0.477881</td>\n",
       "      <td>0.580959</td>\n",
       "      <td>0.622726</td>\n",
       "      <td>-0.147350</td>\n",
       "      <td>1.000000</td>\n",
       "      <td>-0.133570</td>\n",
       "      <td>-0.129774</td>\n",
       "      <td>-0.129761</td>\n",
       "      <td>-0.272131</td>\n",
       "      <td>-0.046717</td>\n",
       "      <td>0.712919</td>\n",
       "      <td>-0.041176</td>\n",
       "    </tr>\n",
       "    <tr>\n",
       "      <th>ROA1</th>\n",
       "      <td>-0.096758</td>\n",
       "      <td>-0.093459</td>\n",
       "      <td>-0.066892</td>\n",
       "      <td>-0.070407</td>\n",
       "      <td>-0.027394</td>\n",
       "      <td>-0.023671</td>\n",
       "      <td>0.435881</td>\n",
       "      <td>-0.133570</td>\n",
       "      <td>1.000000</td>\n",
       "      <td>0.978415</td>\n",
       "      <td>0.511046</td>\n",
       "      <td>0.421944</td>\n",
       "      <td>-0.028401</td>\n",
       "      <td>-0.043092</td>\n",
       "      <td>0.035840</td>\n",
       "    </tr>\n",
       "    <tr>\n",
       "      <th>ROA2</th>\n",
       "      <td>-0.094711</td>\n",
       "      <td>-0.091703</td>\n",
       "      <td>-0.064695</td>\n",
       "      <td>-0.058943</td>\n",
       "      <td>-0.016563</td>\n",
       "      <td>-0.016954</td>\n",
       "      <td>0.447412</td>\n",
       "      <td>-0.129774</td>\n",
       "      <td>0.978415</td>\n",
       "      <td>1.000000</td>\n",
       "      <td>0.529650</td>\n",
       "      <td>0.404393</td>\n",
       "      <td>-0.018165</td>\n",
       "      <td>-0.032392</td>\n",
       "      <td>0.031877</td>\n",
       "    </tr>\n",
       "    <tr>\n",
       "      <th>Total assets turnover rate</th>\n",
       "      <td>-0.110156</td>\n",
       "      <td>-0.106725</td>\n",
       "      <td>-0.081650</td>\n",
       "      <td>0.158910</td>\n",
       "      <td>-0.060530</td>\n",
       "      <td>-0.059683</td>\n",
       "      <td>0.171446</td>\n",
       "      <td>-0.129761</td>\n",
       "      <td>0.511046</td>\n",
       "      <td>0.529650</td>\n",
       "      <td>1.000000</td>\n",
       "      <td>-0.001180</td>\n",
       "      <td>0.045410</td>\n",
       "      <td>-0.081778</td>\n",
       "      <td>0.035649</td>\n",
       "    </tr>\n",
       "    <tr>\n",
       "      <th>Debt ratio</th>\n",
       "      <td>-0.239344</td>\n",
       "      <td>-0.233094</td>\n",
       "      <td>-0.199680</td>\n",
       "      <td>-0.330354</td>\n",
       "      <td>-0.252759</td>\n",
       "      <td>-0.251974</td>\n",
       "      <td>0.120481</td>\n",
       "      <td>-0.272131</td>\n",
       "      <td>0.421944</td>\n",
       "      <td>0.404393</td>\n",
       "      <td>-0.001180</td>\n",
       "      <td>1.000000</td>\n",
       "      <td>-0.003980</td>\n",
       "      <td>-0.247640</td>\n",
       "      <td>0.013310</td>\n",
       "    </tr>\n",
       "    <tr>\n",
       "      <th>Firm age</th>\n",
       "      <td>0.024070</td>\n",
       "      <td>0.026092</td>\n",
       "      <td>0.038458</td>\n",
       "      <td>-0.055023</td>\n",
       "      <td>-0.000626</td>\n",
       "      <td>-0.005760</td>\n",
       "      <td>0.009838</td>\n",
       "      <td>-0.046717</td>\n",
       "      <td>-0.028401</td>\n",
       "      <td>-0.018165</td>\n",
       "      <td>0.045410</td>\n",
       "      <td>-0.003980</td>\n",
       "      <td>1.000000</td>\n",
       "      <td>0.000411</td>\n",
       "      <td>-0.031541</td>\n",
       "    </tr>\n",
       "    <tr>\n",
       "      <th>Issue proceeds(USD)</th>\n",
       "      <td>0.487297</td>\n",
       "      <td>0.464172</td>\n",
       "      <td>0.457046</td>\n",
       "      <td>0.348903</td>\n",
       "      <td>0.622774</td>\n",
       "      <td>0.627783</td>\n",
       "      <td>0.101055</td>\n",
       "      <td>0.712919</td>\n",
       "      <td>-0.043092</td>\n",
       "      <td>-0.032392</td>\n",
       "      <td>-0.081778</td>\n",
       "      <td>-0.247640</td>\n",
       "      <td>0.000411</td>\n",
       "      <td>1.000000</td>\n",
       "      <td>-0.097640</td>\n",
       "    </tr>\n",
       "    <tr>\n",
       "      <th>Stock market sentiment</th>\n",
       "      <td>-0.028994</td>\n",
       "      <td>-0.027236</td>\n",
       "      <td>-0.018989</td>\n",
       "      <td>0.006415</td>\n",
       "      <td>-0.026192</td>\n",
       "      <td>-0.022314</td>\n",
       "      <td>-0.003913</td>\n",
       "      <td>-0.041176</td>\n",
       "      <td>0.035840</td>\n",
       "      <td>0.031877</td>\n",
       "      <td>0.035649</td>\n",
       "      <td>0.013310</td>\n",
       "      <td>-0.031541</td>\n",
       "      <td>-0.097640</td>\n",
       "      <td>1.000000</td>\n",
       "    </tr>\n",
       "  </tbody>\n",
       "</table>\n",
       "</div>"
      ],
      "text/plain": [
       "                            Total assets  Total debts  \\\n",
       "Total assets                    1.000000     0.999229   \n",
       "Total debts                     0.999229     1.000000   \n",
       "Cash flow from operations       0.943218     0.942989   \n",
       "Sales                           0.459857     0.448133   \n",
       "Operating profit                0.921093     0.910283   \n",
       "Net income                      0.913230     0.901643   \n",
       "Offer price                    -0.033190    -0.030868   \n",
       "number of shares sold           0.400885     0.373443   \n",
       "ROA1                           -0.096758    -0.093459   \n",
       "ROA2                           -0.094711    -0.091703   \n",
       "Total assets turnover rate     -0.110156    -0.106725   \n",
       "Debt ratio                     -0.239344    -0.233094   \n",
       "Firm age                        0.024070     0.026092   \n",
       "Issue proceeds(USD)             0.487297     0.464172   \n",
       "Stock market sentiment         -0.028994    -0.027236   \n",
       "\n",
       "                            Cash flow from operations     Sales  \\\n",
       "Total assets                                 0.943218  0.459857   \n",
       "Total debts                                  0.942989  0.448133   \n",
       "Cash flow from operations                    1.000000  0.401356   \n",
       "Sales                                        0.401356  1.000000   \n",
       "Operating profit                             0.833616  0.563045   \n",
       "Net income                                   0.838217  0.571961   \n",
       "Offer price                                 -0.004123 -0.033315   \n",
       "number of shares sold                        0.313397  0.477881   \n",
       "ROA1                                        -0.066892 -0.070407   \n",
       "ROA2                                        -0.064695 -0.058943   \n",
       "Total assets turnover rate                  -0.081650  0.158910   \n",
       "Debt ratio                                  -0.199680 -0.330354   \n",
       "Firm age                                     0.038458 -0.055023   \n",
       "Issue proceeds(USD)                          0.457046  0.348903   \n",
       "Stock market sentiment                      -0.018989  0.006415   \n",
       "\n",
       "                            Operating profit  Net income  Offer price  \\\n",
       "Total assets                        0.921093    0.913230    -0.033190   \n",
       "Total debts                         0.910283    0.901643    -0.030868   \n",
       "Cash flow from operations           0.833616    0.838217    -0.004123   \n",
       "Sales                               0.563045    0.571961    -0.033315   \n",
       "Operating profit                    1.000000    0.993332     0.012557   \n",
       "Net income                          0.993332    1.000000     0.013057   \n",
       "Offer price                         0.012557    0.013057     1.000000   \n",
       "number of shares sold               0.580959    0.622726    -0.147350   \n",
       "ROA1                               -0.027394   -0.023671     0.435881   \n",
       "ROA2                               -0.016563   -0.016954     0.447412   \n",
       "Total assets turnover rate         -0.060530   -0.059683     0.171446   \n",
       "Debt ratio                         -0.252759   -0.251974     0.120481   \n",
       "Firm age                           -0.000626   -0.005760     0.009838   \n",
       "Issue proceeds(USD)                 0.622774    0.627783     0.101055   \n",
       "Stock market sentiment             -0.026192   -0.022314    -0.003913   \n",
       "\n",
       "                            number of shares sold      ROA1      ROA2  \\\n",
       "Total assets                             0.400885 -0.096758 -0.094711   \n",
       "Total debts                              0.373443 -0.093459 -0.091703   \n",
       "Cash flow from operations                0.313397 -0.066892 -0.064695   \n",
       "Sales                                    0.477881 -0.070407 -0.058943   \n",
       "Operating profit                         0.580959 -0.027394 -0.016563   \n",
       "Net income                               0.622726 -0.023671 -0.016954   \n",
       "Offer price                             -0.147350  0.435881  0.447412   \n",
       "number of shares sold                    1.000000 -0.133570 -0.129774   \n",
       "ROA1                                    -0.133570  1.000000  0.978415   \n",
       "ROA2                                    -0.129774  0.978415  1.000000   \n",
       "Total assets turnover rate              -0.129761  0.511046  0.529650   \n",
       "Debt ratio                              -0.272131  0.421944  0.404393   \n",
       "Firm age                                -0.046717 -0.028401 -0.018165   \n",
       "Issue proceeds(USD)                      0.712919 -0.043092 -0.032392   \n",
       "Stock market sentiment                  -0.041176  0.035840  0.031877   \n",
       "\n",
       "                            Total assets turnover rate  Debt ratio  Firm age  \\\n",
       "Total assets                                 -0.110156   -0.239344  0.024070   \n",
       "Total debts                                  -0.106725   -0.233094  0.026092   \n",
       "Cash flow from operations                    -0.081650   -0.199680  0.038458   \n",
       "Sales                                         0.158910   -0.330354 -0.055023   \n",
       "Operating profit                             -0.060530   -0.252759 -0.000626   \n",
       "Net income                                   -0.059683   -0.251974 -0.005760   \n",
       "Offer price                                   0.171446    0.120481  0.009838   \n",
       "number of shares sold                        -0.129761   -0.272131 -0.046717   \n",
       "ROA1                                          0.511046    0.421944 -0.028401   \n",
       "ROA2                                          0.529650    0.404393 -0.018165   \n",
       "Total assets turnover rate                    1.000000   -0.001180  0.045410   \n",
       "Debt ratio                                   -0.001180    1.000000 -0.003980   \n",
       "Firm age                                      0.045410   -0.003980  1.000000   \n",
       "Issue proceeds(USD)                          -0.081778   -0.247640  0.000411   \n",
       "Stock market sentiment                        0.035649    0.013310 -0.031541   \n",
       "\n",
       "                            Issue proceeds(USD)  Stock market sentiment  \n",
       "Total assets                           0.487297               -0.028994  \n",
       "Total debts                            0.464172               -0.027236  \n",
       "Cash flow from operations              0.457046               -0.018989  \n",
       "Sales                                  0.348903                0.006415  \n",
       "Operating profit                       0.622774               -0.026192  \n",
       "Net income                             0.627783               -0.022314  \n",
       "Offer price                            0.101055               -0.003913  \n",
       "number of shares sold                  0.712919               -0.041176  \n",
       "ROA1                                  -0.043092                0.035840  \n",
       "ROA2                                  -0.032392                0.031877  \n",
       "Total assets turnover rate            -0.081778                0.035649  \n",
       "Debt ratio                            -0.247640                0.013310  \n",
       "Firm age                               0.000411               -0.031541  \n",
       "Issue proceeds(USD)                    1.000000               -0.097640  \n",
       "Stock market sentiment                -0.097640                1.000000  "
      ]
     },
     "execution_count": 26,
     "metadata": {},
     "output_type": "execute_result"
    }
   ],
   "source": [
    "data.corr() "
   ]
  },
  {
   "cell_type": "code",
   "execution_count": 27,
   "metadata": {
    "hidden": true
   },
   "outputs": [
    {
     "data": {
      "image/png": "[encoded data removed]",
      "text/plain": [
       "<matplotlib.figure.Figure at 0x1b20fef8a58>"
      ]
     },
     "metadata": {},
     "output_type": "display_data"
    }
   ],
   "source": [
    "#查看变量间的相关性\n",
    "temp= data.corr()  #test_feature => pandas.DataFrame#\n",
    "sns.heatmap(temp)\n",
    "plt.show()"
   ]
  },
  {
   "cell_type": "code",
   "execution_count": 28,
   "metadata": {
    "hidden": true
   },
   "outputs": [
    {
     "data": {
      "text/html": [
       "<div>\n",
       "<style scoped>\n",
       "    .dataframe tbody tr th:only-of-type {\n",
       "        vertical-align: middle;\n",
       "    }\n",
       "\n",
       "    .dataframe tbody tr th {\n",
       "        vertical-align: top;\n",
       "    }\n",
       "\n",
       "    .dataframe thead th {\n",
       "        text-align: right;\n",
       "    }\n",
       "</style>\n",
       "<table border=\"1\" class=\"dataframe\">\n",
       "  <thead>\n",
       "    <tr style=\"text-align: right;\">\n",
       "      <th></th>\n",
       "      <th>Total assets</th>\n",
       "      <th>Total debts</th>\n",
       "      <th>Cash flow from operations</th>\n",
       "      <th>Sales</th>\n",
       "      <th>Operating profit</th>\n",
       "      <th>Net income</th>\n",
       "      <th>Offer price</th>\n",
       "      <th>number of shares sold</th>\n",
       "      <th>ROA1</th>\n",
       "      <th>ROA2</th>\n",
       "      <th>Total assets turnover rate</th>\n",
       "      <th>Debt ratio</th>\n",
       "      <th>Firm age</th>\n",
       "      <th>Issue proceeds(USD)</th>\n",
       "      <th>Stock market sentiment</th>\n",
       "    </tr>\n",
       "  </thead>\n",
       "  <tbody>\n",
       "    <tr>\n",
       "      <th>Total assets</th>\n",
       "      <td>1.000000</td>\n",
       "      <td>0.999229</td>\n",
       "      <td>0.943218</td>\n",
       "      <td>NaN</td>\n",
       "      <td>0.921093</td>\n",
       "      <td>0.913230</td>\n",
       "      <td>NaN</td>\n",
       "      <td>NaN</td>\n",
       "      <td>NaN</td>\n",
       "      <td>NaN</td>\n",
       "      <td>NaN</td>\n",
       "      <td>NaN</td>\n",
       "      <td>NaN</td>\n",
       "      <td>NaN</td>\n",
       "      <td>NaN</td>\n",
       "    </tr>\n",
       "    <tr>\n",
       "      <th>Total debts</th>\n",
       "      <td>0.999229</td>\n",
       "      <td>1.000000</td>\n",
       "      <td>0.942989</td>\n",
       "      <td>NaN</td>\n",
       "      <td>0.910283</td>\n",
       "      <td>0.901643</td>\n",
       "      <td>NaN</td>\n",
       "      <td>NaN</td>\n",
       "      <td>NaN</td>\n",
       "      <td>NaN</td>\n",
       "      <td>NaN</td>\n",
       "      <td>NaN</td>\n",
       "      <td>NaN</td>\n",
       "      <td>NaN</td>\n",
       "      <td>NaN</td>\n",
       "    </tr>\n",
       "    <tr>\n",
       "      <th>Cash flow from operations</th>\n",
       "      <td>0.943218</td>\n",
       "      <td>0.942989</td>\n",
       "      <td>1.000000</td>\n",
       "      <td>NaN</td>\n",
       "      <td>0.833616</td>\n",
       "      <td>0.838217</td>\n",
       "      <td>NaN</td>\n",
       "      <td>NaN</td>\n",
       "      <td>NaN</td>\n",
       "      <td>NaN</td>\n",
       "      <td>NaN</td>\n",
       "      <td>NaN</td>\n",
       "      <td>NaN</td>\n",
       "      <td>NaN</td>\n",
       "      <td>NaN</td>\n",
       "    </tr>\n",
       "    <tr>\n",
       "      <th>Sales</th>\n",
       "      <td>NaN</td>\n",
       "      <td>NaN</td>\n",
       "      <td>NaN</td>\n",
       "      <td>1.0</td>\n",
       "      <td>NaN</td>\n",
       "      <td>NaN</td>\n",
       "      <td>NaN</td>\n",
       "      <td>NaN</td>\n",
       "      <td>NaN</td>\n",
       "      <td>NaN</td>\n",
       "      <td>NaN</td>\n",
       "      <td>NaN</td>\n",
       "      <td>NaN</td>\n",
       "      <td>NaN</td>\n",
       "      <td>NaN</td>\n",
       "    </tr>\n",
       "    <tr>\n",
       "      <th>Operating profit</th>\n",
       "      <td>0.921093</td>\n",
       "      <td>0.910283</td>\n",
       "      <td>0.833616</td>\n",
       "      <td>NaN</td>\n",
       "      <td>1.000000</td>\n",
       "      <td>0.993332</td>\n",
       "      <td>NaN</td>\n",
       "      <td>NaN</td>\n",
       "      <td>NaN</td>\n",
       "      <td>NaN</td>\n",
       "      <td>NaN</td>\n",
       "      <td>NaN</td>\n",
       "      <td>NaN</td>\n",
       "      <td>NaN</td>\n",
       "      <td>NaN</td>\n",
       "    </tr>\n",
       "    <tr>\n",
       "      <th>Net income</th>\n",
       "      <td>0.913230</td>\n",
       "      <td>0.901643</td>\n",
       "      <td>0.838217</td>\n",
       "      <td>NaN</td>\n",
       "      <td>0.993332</td>\n",
       "      <td>1.000000</td>\n",
       "      <td>NaN</td>\n",
       "      <td>NaN</td>\n",
       "      <td>NaN</td>\n",
       "      <td>NaN</td>\n",
       "      <td>NaN</td>\n",
       "      <td>NaN</td>\n",
       "      <td>NaN</td>\n",
       "      <td>NaN</td>\n",
       "      <td>NaN</td>\n",
       "    </tr>\n",
       "    <tr>\n",
       "      <th>Offer price</th>\n",
       "      <td>NaN</td>\n",
       "      <td>NaN</td>\n",
       "      <td>NaN</td>\n",
       "      <td>NaN</td>\n",
       "      <td>NaN</td>\n",
       "      <td>NaN</td>\n",
       "      <td>1.0</td>\n",
       "      <td>NaN</td>\n",
       "      <td>NaN</td>\n",
       "      <td>NaN</td>\n",
       "      <td>NaN</td>\n",
       "      <td>NaN</td>\n",
       "      <td>NaN</td>\n",
       "      <td>NaN</td>\n",
       "      <td>NaN</td>\n",
       "    </tr>\n",
       "    <tr>\n",
       "      <th>number of shares sold</th>\n",
       "      <td>NaN</td>\n",
       "      <td>NaN</td>\n",
       "      <td>NaN</td>\n",
       "      <td>NaN</td>\n",
       "      <td>NaN</td>\n",
       "      <td>NaN</td>\n",
       "      <td>NaN</td>\n",
       "      <td>1.0</td>\n",
       "      <td>NaN</td>\n",
       "      <td>NaN</td>\n",
       "      <td>NaN</td>\n",
       "      <td>NaN</td>\n",
       "      <td>NaN</td>\n",
       "      <td>NaN</td>\n",
       "      <td>NaN</td>\n",
       "    </tr>\n",
       "    <tr>\n",
       "      <th>ROA1</th>\n",
       "      <td>NaN</td>\n",
       "      <td>NaN</td>\n",
       "      <td>NaN</td>\n",
       "      <td>NaN</td>\n",
       "      <td>NaN</td>\n",
       "      <td>NaN</td>\n",
       "      <td>NaN</td>\n",
       "      <td>NaN</td>\n",
       "      <td>1.000000</td>\n",
       "      <td>0.978415</td>\n",
       "      <td>NaN</td>\n",
       "      <td>NaN</td>\n",
       "      <td>NaN</td>\n",
       "      <td>NaN</td>\n",
       "      <td>NaN</td>\n",
       "    </tr>\n",
       "    <tr>\n",
       "      <th>ROA2</th>\n",
       "      <td>NaN</td>\n",
       "      <td>NaN</td>\n",
       "      <td>NaN</td>\n",
       "      <td>NaN</td>\n",
       "      <td>NaN</td>\n",
       "      <td>NaN</td>\n",
       "      <td>NaN</td>\n",
       "      <td>NaN</td>\n",
       "      <td>0.978415</td>\n",
       "      <td>1.000000</td>\n",
       "      <td>NaN</td>\n",
       "      <td>NaN</td>\n",
       "      <td>NaN</td>\n",
       "      <td>NaN</td>\n",
       "      <td>NaN</td>\n",
       "    </tr>\n",
       "    <tr>\n",
       "      <th>Total assets turnover rate</th>\n",
       "      <td>NaN</td>\n",
       "      <td>NaN</td>\n",
       "      <td>NaN</td>\n",
       "      <td>NaN</td>\n",
       "      <td>NaN</td>\n",
       "      <td>NaN</td>\n",
       "      <td>NaN</td>\n",
       "      <td>NaN</td>\n",
       "      <td>NaN</td>\n",
       "      <td>NaN</td>\n",
       "      <td>1.0</td>\n",
       "      <td>NaN</td>\n",
       "      <td>NaN</td>\n",
       "      <td>NaN</td>\n",
       "      <td>NaN</td>\n",
       "    </tr>\n",
       "    <tr>\n",
       "      <th>Debt ratio</th>\n",
       "      <td>NaN</td>\n",
       "      <td>NaN</td>\n",
       "      <td>NaN</td>\n",
       "      <td>NaN</td>\n",
       "      <td>NaN</td>\n",
       "      <td>NaN</td>\n",
       "      <td>NaN</td>\n",
       "      <td>NaN</td>\n",
       "      <td>NaN</td>\n",
       "      <td>NaN</td>\n",
       "      <td>NaN</td>\n",
       "      <td>1.0</td>\n",
       "      <td>NaN</td>\n",
       "      <td>NaN</td>\n",
       "      <td>NaN</td>\n",
       "    </tr>\n",
       "    <tr>\n",
       "      <th>Firm age</th>\n",
       "      <td>NaN</td>\n",
       "      <td>NaN</td>\n",
       "      <td>NaN</td>\n",
       "      <td>NaN</td>\n",
       "      <td>NaN</td>\n",
       "      <td>NaN</td>\n",
       "      <td>NaN</td>\n",
       "      <td>NaN</td>\n",
       "      <td>NaN</td>\n",
       "      <td>NaN</td>\n",
       "      <td>NaN</td>\n",
       "      <td>NaN</td>\n",
       "      <td>1.0</td>\n",
       "      <td>NaN</td>\n",
       "      <td>NaN</td>\n",
       "    </tr>\n",
       "    <tr>\n",
       "      <th>Issue proceeds(USD)</th>\n",
       "      <td>NaN</td>\n",
       "      <td>NaN</td>\n",
       "      <td>NaN</td>\n",
       "      <td>NaN</td>\n",
       "      <td>NaN</td>\n",
       "      <td>NaN</td>\n",
       "      <td>NaN</td>\n",
       "      <td>NaN</td>\n",
       "      <td>NaN</td>\n",
       "      <td>NaN</td>\n",
       "      <td>NaN</td>\n",
       "      <td>NaN</td>\n",
       "      <td>NaN</td>\n",
       "      <td>1.0</td>\n",
       "      <td>NaN</td>\n",
       "    </tr>\n",
       "    <tr>\n",
       "      <th>Stock market sentiment</th>\n",
       "      <td>NaN</td>\n",
       "      <td>NaN</td>\n",
       "      <td>NaN</td>\n",
       "      <td>NaN</td>\n",
       "      <td>NaN</td>\n",
       "      <td>NaN</td>\n",
       "      <td>NaN</td>\n",
       "      <td>NaN</td>\n",
       "      <td>NaN</td>\n",
       "      <td>NaN</td>\n",
       "      <td>NaN</td>\n",
       "      <td>NaN</td>\n",
       "      <td>NaN</td>\n",
       "      <td>NaN</td>\n",
       "      <td>1.0</td>\n",
       "    </tr>\n",
       "  </tbody>\n",
       "</table>\n",
       "</div>"
      ],
      "text/plain": [
       "                            Total assets  Total debts  \\\n",
       "Total assets                    1.000000     0.999229   \n",
       "Total debts                     0.999229     1.000000   \n",
       "Cash flow from operations       0.943218     0.942989   \n",
       "Sales                                NaN          NaN   \n",
       "Operating profit                0.921093     0.910283   \n",
       "Net income                      0.913230     0.901643   \n",
       "Offer price                          NaN          NaN   \n",
       "number of shares sold                NaN          NaN   \n",
       "ROA1                                 NaN          NaN   \n",
       "ROA2                                 NaN          NaN   \n",
       "Total assets turnover rate           NaN          NaN   \n",
       "Debt ratio                           NaN          NaN   \n",
       "Firm age                             NaN          NaN   \n",
       "Issue proceeds(USD)                  NaN          NaN   \n",
       "Stock market sentiment               NaN          NaN   \n",
       "\n",
       "                            Cash flow from operations  Sales  \\\n",
       "Total assets                                 0.943218    NaN   \n",
       "Total debts                                  0.942989    NaN   \n",
       "Cash flow from operations                    1.000000    NaN   \n",
       "Sales                                             NaN    1.0   \n",
       "Operating profit                             0.833616    NaN   \n",
       "Net income                                   0.838217    NaN   \n",
       "Offer price                                       NaN    NaN   \n",
       "number of shares sold                             NaN    NaN   \n",
       "ROA1                                              NaN    NaN   \n",
       "ROA2                                              NaN    NaN   \n",
       "Total assets turnover rate                        NaN    NaN   \n",
       "Debt ratio                                        NaN    NaN   \n",
       "Firm age                                          NaN    NaN   \n",
       "Issue proceeds(USD)                               NaN    NaN   \n",
       "Stock market sentiment                            NaN    NaN   \n",
       "\n",
       "                            Operating profit  Net income  Offer price  \\\n",
       "Total assets                        0.921093    0.913230          NaN   \n",
       "Total debts                         0.910283    0.901643          NaN   \n",
       "Cash flow from operations           0.833616    0.838217          NaN   \n",
       "Sales                                    NaN         NaN          NaN   \n",
       "Operating profit                    1.000000    0.993332          NaN   \n",
       "Net income                          0.993332    1.000000          NaN   \n",
       "Offer price                              NaN         NaN          1.0   \n",
       "number of shares sold                    NaN         NaN          NaN   \n",
       "ROA1                                     NaN         NaN          NaN   \n",
       "ROA2                                     NaN         NaN          NaN   \n",
       "Total assets turnover rate               NaN         NaN          NaN   \n",
       "Debt ratio                               NaN         NaN          NaN   \n",
       "Firm age                                 NaN         NaN          NaN   \n",
       "Issue proceeds(USD)                      NaN         NaN          NaN   \n",
       "Stock market sentiment                   NaN         NaN          NaN   \n",
       "\n",
       "                            number of shares sold      ROA1      ROA2  \\\n",
       "Total assets                                  NaN       NaN       NaN   \n",
       "Total debts                                   NaN       NaN       NaN   \n",
       "Cash flow from operations                     NaN       NaN       NaN   \n",
       "Sales                                         NaN       NaN       NaN   \n",
       "Operating profit                              NaN       NaN       NaN   \n",
       "Net income                                    NaN       NaN       NaN   \n",
       "Offer price                                   NaN       NaN       NaN   \n",
       "number of shares sold                         1.0       NaN       NaN   \n",
       "ROA1                                          NaN  1.000000  0.978415   \n",
       "ROA2                                          NaN  0.978415  1.000000   \n",
       "Total assets turnover rate                    NaN       NaN       NaN   \n",
       "Debt ratio                                    NaN       NaN       NaN   \n",
       "Firm age                                      NaN       NaN       NaN   \n",
       "Issue proceeds(USD)                           NaN       NaN       NaN   \n",
       "Stock market sentiment                        NaN       NaN       NaN   \n",
       "\n",
       "                            Total assets turnover rate  Debt ratio  Firm age  \\\n",
       "Total assets                                       NaN         NaN       NaN   \n",
       "Total debts                                        NaN         NaN       NaN   \n",
       "Cash flow from operations                          NaN         NaN       NaN   \n",
       "Sales                                              NaN         NaN       NaN   \n",
       "Operating profit                                   NaN         NaN       NaN   \n",
       "Net income                                         NaN         NaN       NaN   \n",
       "Offer price                                        NaN         NaN       NaN   \n",
       "number of shares sold                              NaN         NaN       NaN   \n",
       "ROA1                                               NaN         NaN       NaN   \n",
       "ROA2                                               NaN         NaN       NaN   \n",
       "Total assets turnover rate                         1.0         NaN       NaN   \n",
       "Debt ratio                                         NaN         1.0       NaN   \n",
       "Firm age                                           NaN         NaN       1.0   \n",
       "Issue proceeds(USD)                                NaN         NaN       NaN   \n",
       "Stock market sentiment                             NaN         NaN       NaN   \n",
       "\n",
       "                            Issue proceeds(USD)  Stock market sentiment  \n",
       "Total assets                                NaN                     NaN  \n",
       "Total debts                                 NaN                     NaN  \n",
       "Cash flow from operations                   NaN                     NaN  \n",
       "Sales                                       NaN                     NaN  \n",
       "Operating profit                            NaN                     NaN  \n",
       "Net income                                  NaN                     NaN  \n",
       "Offer price                                 NaN                     NaN  \n",
       "number of shares sold                       NaN                     NaN  \n",
       "ROA1                                        NaN                     NaN  \n",
       "ROA2                                        NaN                     NaN  \n",
       "Total assets turnover rate                  NaN                     NaN  \n",
       "Debt ratio                                  NaN                     NaN  \n",
       "Firm age                                    NaN                     NaN  \n",
       "Issue proceeds(USD)                         1.0                     NaN  \n",
       "Stock market sentiment                      NaN                     1.0  "
      ]
     },
     "execution_count": 28,
     "metadata": {},
     "output_type": "execute_result"
    }
   ],
   "source": [
    "#查看变量间相关性大于0.8的\n",
    "Corr=data.corr()\n",
    "Corr[Corr>0.8]"
   ]
  },
  {
   "cell_type": "markdown",
   "metadata": {
    "hidden": true
   },
   "source": [
    "可以看出只有少数财务相关变量间的相关系数大于了0.8"
   ]
  },
  {
   "cell_type": "code",
   "execution_count": null,
   "metadata": {
    "hidden": true
   },
   "outputs": [],
   "source": []
  }
 ],
 "metadata": {
  "kernelspec": {
   "display_name": "Python 3",
   "language": "python",
   "name": "python3"
  },
  "language_info": {
   "codemirror_mode": {
    "name": "ipython",
    "version": 3
   },
   "file_extension": ".py",
   "mimetype": "text/x-python",
   "name": "python",
   "nbconvert_exporter": "python",
   "pygments_lexer": "ipython3",
   "version": "3.6.1"
  },
  "toc": {
   "base_numbering": 1,
   "nav_menu": {},
   "number_sections": true,
   "sideBar": true,
   "skip_h1_title": false,
   "title_cell": "Table of Contents",
   "title_sidebar": "Contents",
   "toc_cell": false,
   "toc_position": {
    "height": "calc(100% - 180px)",
    "left": "10px",
    "top": "150px",
    "width": "273px"
   },
   "toc_section_display": true,
   "toc_window_display": true
  }
 },
 "nbformat": 4,
 "nbformat_minor": 2
}
