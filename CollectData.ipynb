{
 "cells": [
  {
   "cell_type": "markdown",
   "metadata": {},
   "source": [
    "# 提取数据\n",
    "\n",
    "由于数据源比较多，为了保持代码的可读性，将读取数据及集成部分单独放在一个模块中。"
   ]
  },
  {
   "cell_type": "code",
   "execution_count": 1,
   "metadata": {},
   "outputs": [],
   "source": [
    "#用于数据的处理\n",
    "import pandas as pd\n",
    "import numpy as np\n",
    "\n",
    "#用于获得上证指数数据\n",
    "import tushare as ts\n",
    "\n",
    "#忽略pandsa的警告\n",
    "import warnings\n",
    "warnings.filterwarnings('ignore')"
   ]
  },
  {
   "cell_type": "code",
   "execution_count": 2,
   "metadata": {},
   "outputs": [],
   "source": [
    "def getProperIpo(data):\n",
    "    #取出在2014-2017年鉴上市的公司，并获得在上市日期前最后一个会计期间的数据\n",
    "    #原理：通过招股开始日期，获得公司上市的年份，再取出在2014-2017来的数据，对于每一支股票按照会计年度进行排序\n",
    "    #     标记每只股票最后一条数据的位置，获得上市前最后一个会计年度的数据\n",
    "    #参数：data：带有会计期间、招股开始日期及股票代码、财务信息的DataFrame数据\n",
    "    #返回：2014-2017件上市公司上市日期前最后一个会计期间的财务数据（DataFrame）\n",
    "    \n",
    "     \n",
    "    data.sort_values(by=['Stkcd','date'],inplace=True,ascending=True) \n",
    "    data['stock_position']=data['Stkcd'].shift(-1)\n",
    "    data['last_position']=0\n",
    "    data['last_position'][data['stock_position']!=data['Stkcd']]=1\n",
    "    data['last_position'][0]=0\n",
    "    data2=data[data.last_position==1].drop(['stock_position','last_position','date'],axis=1)\n",
    "\n",
    "    return data2"
   ]
  },
  {
   "cell_type": "code",
   "execution_count": 3,
   "metadata": {},
   "outputs": [],
   "source": [
    "def getmarket(data,market):\n",
    "    #得到最接近上市日期（上市日期之前的）的上证回报率指数\n",
    "    #原理：通过循环比较特定日期与上证21天的回报率时间序列数据的日期，得到最接近上市日期前的上证回报率指数，返回上证回报率指数序列\n",
    "    #参数：data:股票的上市日期序列\n",
    "    #      market:上证21天的回报率指数序列\n",
    "    #返回：与上市日期对应的上证21天回报率指数序列\n",
    "    #注意：参数与返回值均为DataFrame格式\n",
    "    \n",
    "    \n",
    "    market['date1']=market['date'].shift(-1)\n",
    "    date=pd.to_datetime(data)\n",
    "    sentiment=[]\n",
    "    for time in date:\n",
    "        #比较上市日期与date,date1的大小关系，得到最接近日期的回报率指数\n",
    "        temp=np.array(market['21 days return'][(pd.to_datetime(market['date'])<=time)&(pd.to_datetime(market['date1'])>time)])\n",
    "        sentiment.append(temp)\n",
    "    s=pd.DataFrame(sentiment)\n",
    "    s.columns=['Stock market sentiment']\n",
    "    return s"
   ]
  },
  {
   "cell_type": "markdown",
   "metadata": {},
   "source": [
    "## 上证指数21天回报率数据"
   ]
  },
  {
   "cell_type": "code",
   "execution_count": 4,
   "metadata": {},
   "outputs": [],
   "source": [
    "#得到上证指数的周指数\n",
    "df=ts.get_hist_data('sh', ktype='W').reset_index()\n",
    "\n",
    "#按照时间顺序排序\n",
    "df.sort_values('date',inplace=True)\n",
    "\n",
    "#用收盘价计算21的回报率\n",
    "df['close1']=df['close'].shift(-3)\n",
    "df['21 days return']=(df['close1']-df['close'])/df['close']\n",
    "\n",
    "#保存日期及回报率指数\n",
    "marketReturn=df[['date','21 days return']]"
   ]
  },
  {
   "cell_type": "code",
   "execution_count": 5,
   "metadata": {},
   "outputs": [
    {
     "data": {
      "text/html": [
       "<div>\n",
       "<style scoped>\n",
       "    .dataframe tbody tr th:only-of-type {\n",
       "        vertical-align: middle;\n",
       "    }\n",
       "\n",
       "    .dataframe tbody tr th {\n",
       "        vertical-align: top;\n",
       "    }\n",
       "\n",
       "    .dataframe thead th {\n",
       "        text-align: right;\n",
       "    }\n",
       "</style>\n",
       "<table border=\"1\" class=\"dataframe\">\n",
       "  <thead>\n",
       "    <tr style=\"text-align: right;\">\n",
       "      <th></th>\n",
       "      <th>date</th>\n",
       "      <th>21 days return</th>\n",
       "    </tr>\n",
       "  </thead>\n",
       "  <tbody>\n",
       "    <tr>\n",
       "      <th>856</th>\n",
       "      <td>2001-06-01</td>\n",
       "      <td>-0.006091</td>\n",
       "    </tr>\n",
       "    <tr>\n",
       "      <th>855</th>\n",
       "      <td>2001-06-08</td>\n",
       "      <td>-0.002267</td>\n",
       "    </tr>\n",
       "    <tr>\n",
       "      <th>854</th>\n",
       "      <td>2001-06-15</td>\n",
       "      <td>-0.018295</td>\n",
       "    </tr>\n",
       "    <tr>\n",
       "      <th>853</th>\n",
       "      <td>2001-06-22</td>\n",
       "      <td>-0.020276</td>\n",
       "    </tr>\n",
       "    <tr>\n",
       "      <th>852</th>\n",
       "      <td>2001-06-29</td>\n",
       "      <td>-0.017317</td>\n",
       "    </tr>\n",
       "  </tbody>\n",
       "</table>\n",
       "</div>"
      ],
      "text/plain": [
       "           date  21 days return\n",
       "856  2001-06-01       -0.006091\n",
       "855  2001-06-08       -0.002267\n",
       "854  2001-06-15       -0.018295\n",
       "853  2001-06-22       -0.020276\n",
       "852  2001-06-29       -0.017317"
      ]
     },
     "execution_count": 5,
     "metadata": {},
     "output_type": "execute_result"
    }
   ],
   "source": [
    "marketReturn.head()"
   ]
  },
  {
   "cell_type": "markdown",
   "metadata": {},
   "source": [
    "## 汇率"
   ]
  },
  {
   "cell_type": "markdown",
   "metadata": {},
   "source": [
    "- Exchdt [汇率日期] \n",
    "- Rmbusd [人民币元对美元汇率] "
   ]
  },
  {
   "cell_type": "code",
   "execution_count": 6,
   "metadata": {},
   "outputs": [],
   "source": [
    "#得到汇率数据\n",
    "trdExchange=pd.read_csv(\"data/TRD_Exchange.csv\",encoding=\"utf-16\",sep=\"\\t\")\n",
    "\n",
    "#对变量名进行重命名\n",
    "trdExchange.rename(columns={'Exchdt':'date','Rmbusd':'US dollar buying rate'}, inplace = True)"
   ]
  },
  {
   "cell_type": "code",
   "execution_count": 7,
   "metadata": {},
   "outputs": [
    {
     "data": {
      "text/html": [
       "<div>\n",
       "<style scoped>\n",
       "    .dataframe tbody tr th:only-of-type {\n",
       "        vertical-align: middle;\n",
       "    }\n",
       "\n",
       "    .dataframe tbody tr th {\n",
       "        vertical-align: top;\n",
       "    }\n",
       "\n",
       "    .dataframe thead th {\n",
       "        text-align: right;\n",
       "    }\n",
       "</style>\n",
       "<table border=\"1\" class=\"dataframe\">\n",
       "  <thead>\n",
       "    <tr style=\"text-align: right;\">\n",
       "      <th></th>\n",
       "      <th>date</th>\n",
       "      <th>US dollar buying rate</th>\n",
       "    </tr>\n",
       "  </thead>\n",
       "  <tbody>\n",
       "    <tr>\n",
       "      <th>0</th>\n",
       "      <td>2010-05-10</td>\n",
       "      <td>6.8269</td>\n",
       "    </tr>\n",
       "    <tr>\n",
       "      <th>1</th>\n",
       "      <td>2010-05-11</td>\n",
       "      <td>6.8270</td>\n",
       "    </tr>\n",
       "    <tr>\n",
       "      <th>2</th>\n",
       "      <td>2010-05-12</td>\n",
       "      <td>6.8271</td>\n",
       "    </tr>\n",
       "    <tr>\n",
       "      <th>3</th>\n",
       "      <td>2010-05-13</td>\n",
       "      <td>6.8272</td>\n",
       "    </tr>\n",
       "    <tr>\n",
       "      <th>4</th>\n",
       "      <td>2010-05-14</td>\n",
       "      <td>6.8273</td>\n",
       "    </tr>\n",
       "  </tbody>\n",
       "</table>\n",
       "</div>"
      ],
      "text/plain": [
       "         date  US dollar buying rate\n",
       "0  2010-05-10                 6.8269\n",
       "1  2010-05-11                 6.8270\n",
       "2  2010-05-12                 6.8271\n",
       "3  2010-05-13                 6.8272\n",
       "4  2010-05-14                 6.8273"
      ]
     },
     "execution_count": 7,
     "metadata": {},
     "output_type": "execute_result"
    }
   ],
   "source": [
    "trdExchange.head()"
   ]
  },
  {
   "cell_type": "markdown",
   "metadata": {},
   "source": [
    "## 公司成立日期\n",
    "- Stkcd [证券代码]\n",
    "- Estbdt [公司成立日期] "
   ]
  },
  {
   "cell_type": "code",
   "execution_count": 8,
   "metadata": {},
   "outputs": [],
   "source": [
    "#得到公司的基本信息\n",
    "ipoCobasic=pd.read_csv(\"data/IPO_Cobasic.csv\",encoding=\"utf-16\",sep=\"\\t\")\n",
    "\n",
    "#对变量名进行重命名\n",
    "ipoCobasic.rename(columns={'Estbdt':'inception date'}, inplace = True)"
   ]
  },
  {
   "cell_type": "code",
   "execution_count": 9,
   "metadata": {},
   "outputs": [
    {
     "data": {
      "text/html": [
       "<div>\n",
       "<style scoped>\n",
       "    .dataframe tbody tr th:only-of-type {\n",
       "        vertical-align: middle;\n",
       "    }\n",
       "\n",
       "    .dataframe tbody tr th {\n",
       "        vertical-align: top;\n",
       "    }\n",
       "\n",
       "    .dataframe thead th {\n",
       "        text-align: right;\n",
       "    }\n",
       "</style>\n",
       "<table border=\"1\" class=\"dataframe\">\n",
       "  <thead>\n",
       "    <tr style=\"text-align: right;\">\n",
       "      <th></th>\n",
       "      <th>Stkcd</th>\n",
       "      <th>inception date</th>\n",
       "    </tr>\n",
       "  </thead>\n",
       "  <tbody>\n",
       "    <tr>\n",
       "      <th>0</th>\n",
       "      <td>166</td>\n",
       "      <td>1996-09-16</td>\n",
       "    </tr>\n",
       "    <tr>\n",
       "      <th>1</th>\n",
       "      <td>333</td>\n",
       "      <td>2000-04-07</td>\n",
       "    </tr>\n",
       "    <tr>\n",
       "      <th>2</th>\n",
       "      <td>338</td>\n",
       "      <td>2002-12-23</td>\n",
       "    </tr>\n",
       "    <tr>\n",
       "      <th>3</th>\n",
       "      <td>1965</td>\n",
       "      <td>2016-08-29</td>\n",
       "    </tr>\n",
       "    <tr>\n",
       "      <th>4</th>\n",
       "      <td>1979</td>\n",
       "      <td>2015-06-26</td>\n",
       "    </tr>\n",
       "  </tbody>\n",
       "</table>\n",
       "</div>"
      ],
      "text/plain": [
       "   Stkcd inception date\n",
       "0    166     1996-09-16\n",
       "1    333     2000-04-07\n",
       "2    338     2002-12-23\n",
       "3   1965     2016-08-29\n",
       "4   1979     2015-06-26"
      ]
     },
     "execution_count": 9,
     "metadata": {},
     "output_type": "execute_result"
    }
   ],
   "source": [
    "ipoCobasic.head()"
   ]
  },
  {
   "cell_type": "markdown",
   "metadata": {},
   "source": [
    "## 证券发行方式、承销方式、发行价格及发行数量\n",
    "- Stkcd [证券代码] \n",
    "- Ipotype [发行方式] \n",
    "- Udwwy [承销方式] - 1＝余额包销，2＝全额包销，3＝代销，4=包销，5＝其他；\n",
    "- Aiprc [发行价格] - \n",
    "- Nshripo [发行数量] - 该数量为实际发行的股值。"
   ]
  },
  {
   "cell_type": "code",
   "execution_count": 10,
   "metadata": {},
   "outputs": [],
   "source": [
    "#得到IPO的基本数据\n",
    "ipoIpoBasic=pd.read_csv(\"data/IPO_Ipobasic.csv\",encoding=\"utf-16\",sep=\"\\t\").drop(\"T1\",axis=1)\n",
    "\n",
    "#删除无效变量：因为承销方式并无差异\n",
    "ipoBasic=ipoIpoBasic.drop(['Udwwy','Aiprc'],axis=1)\n",
    "\n",
    "#对变量名进行重命名\n",
    "ipoBasic.rename(columns={'Ipotype':'Sales method','Nshripo':'number of shares sold'}, inplace = True)"
   ]
  },
  {
   "cell_type": "code",
   "execution_count": 11,
   "metadata": {},
   "outputs": [
    {
     "data": {
      "text/html": [
       "<div>\n",
       "<style scoped>\n",
       "    .dataframe tbody tr th:only-of-type {\n",
       "        vertical-align: middle;\n",
       "    }\n",
       "\n",
       "    .dataframe tbody tr th {\n",
       "        vertical-align: top;\n",
       "    }\n",
       "\n",
       "    .dataframe thead th {\n",
       "        text-align: right;\n",
       "    }\n",
       "</style>\n",
       "<table border=\"1\" class=\"dataframe\">\n",
       "  <thead>\n",
       "    <tr style=\"text-align: right;\">\n",
       "      <th></th>\n",
       "      <th>Stkcd</th>\n",
       "      <th>Sales method</th>\n",
       "      <th>number of shares sold</th>\n",
       "    </tr>\n",
       "  </thead>\n",
       "  <tbody>\n",
       "    <tr>\n",
       "      <th>0</th>\n",
       "      <td>1</td>\n",
       "      <td>16</td>\n",
       "      <td>35.00</td>\n",
       "    </tr>\n",
       "    <tr>\n",
       "      <th>1</th>\n",
       "      <td>2</td>\n",
       "      <td>10</td>\n",
       "      <td>2800.00</td>\n",
       "    </tr>\n",
       "    <tr>\n",
       "      <th>2</th>\n",
       "      <td>3</td>\n",
       "      <td>19</td>\n",
       "      <td>45.20</td>\n",
       "    </tr>\n",
       "    <tr>\n",
       "      <th>3</th>\n",
       "      <td>4</td>\n",
       "      <td>17</td>\n",
       "      <td>1250.00</td>\n",
       "    </tr>\n",
       "    <tr>\n",
       "      <th>4</th>\n",
       "      <td>5</td>\n",
       "      <td>2</td>\n",
       "      <td>4433.85</td>\n",
       "    </tr>\n",
       "  </tbody>\n",
       "</table>\n",
       "</div>"
      ],
      "text/plain": [
       "   Stkcd Sales method  number of shares sold\n",
       "0      1           16                  35.00\n",
       "1      2           10                2800.00\n",
       "2      3           19                  45.20\n",
       "3      4           17                1250.00\n",
       "4      5            2                4433.85"
      ]
     },
     "execution_count": 11,
     "metadata": {},
     "output_type": "execute_result"
    }
   ],
   "source": [
    "ipoBasic.head()"
   ]
  },
  {
   "cell_type": "markdown",
   "metadata": {},
   "source": [
    "## 公司上市前资产及负债情况\n",
    "- Stkcd [证券代码] \n",
    "- Subbgdt [招股开始日期] - 以YYYY-MM-DD列示。\n",
    "- Accper [会计年度] - 以YYYY-MM-DD列示。\n",
    "- A001 [资产总计] - 资产各项目之总计\n",
    "- A002 [负债合计] - 负债各项目之合计"
   ]
  },
  {
   "cell_type": "code",
   "execution_count": 12,
   "metadata": {},
   "outputs": [],
   "source": [
    "#得到上市前各会计年度的资产负债情况\n",
    "ipoBalanceData=pd.read_csv(\"data/IPO_IpoBalance.csv\",encoding=\"utf-16\",sep=\"\\t\")\n",
    "\n",
    "#对变量名进行重命名\n",
    "ipoBalanceData.rename(columns={'Accper':'date','A001':'Total assets','A002':'Total debts'}, inplace = True)\n",
    "\n",
    "#去掉空行\n",
    "ipoBalanceData.dropna(inplace=True)\n",
    "\n",
    "#\n",
    "#ipoBalanceData['Total assets']=ipoBalanceData['Total assets']/10000\n",
    "#ipoBalanceData['Total debts']=ipoBalanceData['Total debts']/10000\n",
    "\n",
    "#通过招股开始日期，获得公司上市的年份\n",
    "ipoBalance=getProperIpo(ipoBalanceData)"
   ]
  },
  {
   "cell_type": "code",
   "execution_count": 13,
   "metadata": {},
   "outputs": [
    {
     "data": {
      "text/html": [
       "<div>\n",
       "<style scoped>\n",
       "    .dataframe tbody tr th:only-of-type {\n",
       "        vertical-align: middle;\n",
       "    }\n",
       "\n",
       "    .dataframe tbody tr th {\n",
       "        vertical-align: top;\n",
       "    }\n",
       "\n",
       "    .dataframe thead th {\n",
       "        text-align: right;\n",
       "    }\n",
       "</style>\n",
       "<table border=\"1\" class=\"dataframe\">\n",
       "  <thead>\n",
       "    <tr style=\"text-align: right;\">\n",
       "      <th></th>\n",
       "      <th>Stkcd</th>\n",
       "      <th>Subbgdt</th>\n",
       "      <th>Total assets</th>\n",
       "      <th>Total debts</th>\n",
       "    </tr>\n",
       "  </thead>\n",
       "  <tbody>\n",
       "    <tr>\n",
       "      <th>3</th>\n",
       "      <td>100</td>\n",
       "      <td>2004-01-07</td>\n",
       "      <td>1.479043e+10</td>\n",
       "      <td>1.019994e+10</td>\n",
       "    </tr>\n",
       "    <tr>\n",
       "      <th>4</th>\n",
       "      <td>333</td>\n",
       "      <td>2013-09-17</td>\n",
       "      <td>9.457205e+07</td>\n",
       "      <td>5.846745e+07</td>\n",
       "    </tr>\n",
       "    <tr>\n",
       "      <th>8</th>\n",
       "      <td>875</td>\n",
       "      <td>2002-09-12</td>\n",
       "      <td>1.807634e+09</td>\n",
       "      <td>3.747615e+08</td>\n",
       "    </tr>\n",
       "    <tr>\n",
       "      <th>11</th>\n",
       "      <td>2001</td>\n",
       "      <td>2004-06-02</td>\n",
       "      <td>1.051471e+09</td>\n",
       "      <td>6.947286e+08</td>\n",
       "    </tr>\n",
       "    <tr>\n",
       "      <th>14</th>\n",
       "      <td>2002</td>\n",
       "      <td>2004-06-03</td>\n",
       "      <td>2.531259e+08</td>\n",
       "      <td>1.228242e+08</td>\n",
       "    </tr>\n",
       "  </tbody>\n",
       "</table>\n",
       "</div>"
      ],
      "text/plain": [
       "    Stkcd     Subbgdt  Total assets   Total debts\n",
       "3     100  2004-01-07  1.479043e+10  1.019994e+10\n",
       "4     333  2013-09-17  9.457205e+07  5.846745e+07\n",
       "8     875  2002-09-12  1.807634e+09  3.747615e+08\n",
       "11   2001  2004-06-02  1.051471e+09  6.947286e+08\n",
       "14   2002  2004-06-03  2.531259e+08  1.228242e+08"
      ]
     },
     "execution_count": 13,
     "metadata": {},
     "output_type": "execute_result"
    }
   ],
   "source": [
    "ipoBalance.head()"
   ]
  },
  {
   "cell_type": "markdown",
   "metadata": {},
   "source": [
    "## 公司上市前的现金流\n",
    "- Stkcd [证券代码] \n",
    "- Subbgdt [招股开始日期] - 以YYYY-MM-DD列示。\n",
    "- Accper [会计年度] - 以YYYY-MM-DD列示0。\n",
    "- C001 [经营活动产生的现金流量净额] "
   ]
  },
  {
   "cell_type": "code",
   "execution_count": 14,
   "metadata": {},
   "outputs": [],
   "source": [
    "#得到上市前的现金流量数据\n",
    "ipoCashFlowData=pd.read_csv(\"data/IPO_IpoCashFlow.csv\",encoding=\"utf-16\",sep=\"\\t\")\n",
    "\n",
    "#对变量名进行重命名\n",
    "ipoCashFlowData.rename(columns={'Accper':'date','C001':'Cash flow from operations'}, inplace = True)\n",
    "\n",
    "#去掉空行\n",
    "ipoCashFlowData.dropna(inplace=True)\n",
    "\n",
    "#\n",
    "#ipoCashFlowData['Cash flow from operations']=ipoCashFlowData['Cash flow from operations']/10000\n",
    "\n",
    "#通过招股开始日期，获得公司上市的年份\n",
    "ipoCashFlow=getProperIpo(ipoCashFlowData)"
   ]
  },
  {
   "cell_type": "code",
   "execution_count": 15,
   "metadata": {},
   "outputs": [
    {
     "data": {
      "text/html": [
       "<div>\n",
       "<style scoped>\n",
       "    .dataframe tbody tr th:only-of-type {\n",
       "        vertical-align: middle;\n",
       "    }\n",
       "\n",
       "    .dataframe tbody tr th {\n",
       "        vertical-align: top;\n",
       "    }\n",
       "\n",
       "    .dataframe thead th {\n",
       "        text-align: right;\n",
       "    }\n",
       "</style>\n",
       "<table border=\"1\" class=\"dataframe\">\n",
       "  <thead>\n",
       "    <tr style=\"text-align: right;\">\n",
       "      <th></th>\n",
       "      <th>Stkcd</th>\n",
       "      <th>Subbgdt</th>\n",
       "      <th>Cash flow from operations</th>\n",
       "    </tr>\n",
       "  </thead>\n",
       "  <tbody>\n",
       "    <tr>\n",
       "      <th>1</th>\n",
       "      <td>100</td>\n",
       "      <td>2004-01-07</td>\n",
       "      <td>-5.242400e+08</td>\n",
       "    </tr>\n",
       "    <tr>\n",
       "      <th>2</th>\n",
       "      <td>333</td>\n",
       "      <td>2013-09-17</td>\n",
       "      <td>3.569364e+06</td>\n",
       "    </tr>\n",
       "    <tr>\n",
       "      <th>4</th>\n",
       "      <td>875</td>\n",
       "      <td>2002-09-12</td>\n",
       "      <td>2.516835e+07</td>\n",
       "    </tr>\n",
       "    <tr>\n",
       "      <th>6</th>\n",
       "      <td>2001</td>\n",
       "      <td>2004-06-02</td>\n",
       "      <td>1.229210e+08</td>\n",
       "    </tr>\n",
       "    <tr>\n",
       "      <th>7</th>\n",
       "      <td>2002</td>\n",
       "      <td>2004-06-03</td>\n",
       "      <td>3.086389e+07</td>\n",
       "    </tr>\n",
       "  </tbody>\n",
       "</table>\n",
       "</div>"
      ],
      "text/plain": [
       "   Stkcd     Subbgdt  Cash flow from operations\n",
       "1    100  2004-01-07              -5.242400e+08\n",
       "2    333  2013-09-17               3.569364e+06\n",
       "4    875  2002-09-12               2.516835e+07\n",
       "6   2001  2004-06-02               1.229210e+08\n",
       "7   2002  2004-06-03               3.086389e+07"
      ]
     },
     "execution_count": 15,
     "metadata": {},
     "output_type": "execute_result"
    }
   ],
   "source": [
    "ipoCashFlow.head()"
   ]
  },
  {
   "cell_type": "markdown",
   "metadata": {},
   "source": [
    "## 公式上市前的营业总收入、利润、及净利润\n",
    "- Stkcd [证券代码] \n",
    "- Subbgdt [招股开始日期] - 以YYYY-MM-DD列示。\n",
    "- Accper [会计年度] - 以YYYY-MM-DD列示。\n",
    "- B0011 [营业总收入] - 企业经营过程中所有收入之和.\n",
    "- B0013 [营业利润] - 与经营业务有关的利润。\n",
    "- B002 [净利润] - 公司实现的净利润\n"
   ]
  },
  {
   "cell_type": "code",
   "execution_count": 16,
   "metadata": {},
   "outputs": [],
   "source": [
    "#得到了IPO之前各会计年度的经营状况\n",
    "ipoIncomeData=pd.read_csv(\"data/IPO_IpoIncome.csv\",encoding=\"utf-16\",sep=\"\\t\")\n",
    "\n",
    "#对变量名进行重命名\n",
    "ipoIncomeData.rename(columns={'Accper':'date','B002':'Net income','B0013':'Operating profit','B0011':'Sales'}, inplace = True)\n",
    "\n",
    "#去掉空行\n",
    "ipoIncomeData.dropna(inplace=True)\n",
    "\n",
    "#使数值变小，更加直观\n",
    "#ipoIncomeData['Sales']=ipoIncomeData['Sales']/10000\n",
    "#ipoIncomeData['Net income']=ipoIncomeData['Net income']/10000\n",
    "#ipoIncomeData['Operating profit']=ipoIncomeData['Operating profit']/10000\n",
    "\n",
    "#通过招股开始日期，获得公司上市的年份\n",
    "ipoIncome=getProperIpo(ipoIncomeData)"
   ]
  },
  {
   "cell_type": "code",
   "execution_count": 17,
   "metadata": {},
   "outputs": [
    {
     "data": {
      "text/html": [
       "<div>\n",
       "<style scoped>\n",
       "    .dataframe tbody tr th:only-of-type {\n",
       "        vertical-align: middle;\n",
       "    }\n",
       "\n",
       "    .dataframe tbody tr th {\n",
       "        vertical-align: top;\n",
       "    }\n",
       "\n",
       "    .dataframe thead th {\n",
       "        text-align: right;\n",
       "    }\n",
       "</style>\n",
       "<table border=\"1\" class=\"dataframe\">\n",
       "  <thead>\n",
       "    <tr style=\"text-align: right;\">\n",
       "      <th></th>\n",
       "      <th>Stkcd</th>\n",
       "      <th>Subbgdt</th>\n",
       "      <th>Sales</th>\n",
       "      <th>Operating profit</th>\n",
       "      <th>Net income</th>\n",
       "    </tr>\n",
       "  </thead>\n",
       "  <tbody>\n",
       "    <tr>\n",
       "      <th>1</th>\n",
       "      <td>2140</td>\n",
       "      <td>2007-07-02</td>\n",
       "      <td>3.128633e+08</td>\n",
       "      <td>31300415.10</td>\n",
       "      <td>27361736.36</td>\n",
       "    </tr>\n",
       "    <tr>\n",
       "      <th>2</th>\n",
       "      <td>2141</td>\n",
       "      <td>2007-07-11</td>\n",
       "      <td>3.089272e+08</td>\n",
       "      <td>13329091.71</td>\n",
       "      <td>11732536.99</td>\n",
       "    </tr>\n",
       "    <tr>\n",
       "      <th>3</th>\n",
       "      <td>2143</td>\n",
       "      <td>2007-07-11</td>\n",
       "      <td>8.722297e+08</td>\n",
       "      <td>20385934.66</td>\n",
       "      <td>20835152.20</td>\n",
       "    </tr>\n",
       "    <tr>\n",
       "      <th>4</th>\n",
       "      <td>2144</td>\n",
       "      <td>2007-07-20</td>\n",
       "      <td>1.638524e+08</td>\n",
       "      <td>14003759.54</td>\n",
       "      <td>12243657.80</td>\n",
       "    </tr>\n",
       "    <tr>\n",
       "      <th>5</th>\n",
       "      <td>2145</td>\n",
       "      <td>2007-07-20</td>\n",
       "      <td>1.780167e+08</td>\n",
       "      <td>-4323499.07</td>\n",
       "      <td>1867282.77</td>\n",
       "    </tr>\n",
       "  </tbody>\n",
       "</table>\n",
       "</div>"
      ],
      "text/plain": [
       "   Stkcd     Subbgdt         Sales  Operating profit   Net income\n",
       "1   2140  2007-07-02  3.128633e+08       31300415.10  27361736.36\n",
       "2   2141  2007-07-11  3.089272e+08       13329091.71  11732536.99\n",
       "3   2143  2007-07-11  8.722297e+08       20385934.66  20835152.20\n",
       "4   2144  2007-07-20  1.638524e+08       14003759.54  12243657.80\n",
       "5   2145  2007-07-20  1.780167e+08       -4323499.07   1867282.77"
      ]
     },
     "execution_count": 17,
     "metadata": {},
     "output_type": "execute_result"
    }
   ],
   "source": [
    "ipoIncome.head()"
   ]
  },
  {
   "cell_type": "markdown",
   "metadata": {},
   "source": [
    "## 上市首日的个股回报率\n",
    "- Stkcd [证券代码] \n",
    "- Listdt [上市日期] \n",
    "- Retnfstd [上市首日的个股回报率] - （股票在首日的收盘价-股票n的招股价格）-1\n",
    "- Retnadfstd （1+上市首日的个股回报率）/（1+上市首日的市场回报率）-1\n"
   ]
  },
  {
   "cell_type": "code",
   "execution_count": 18,
   "metadata": {},
   "outputs": [],
   "source": [
    "#上市首日市场表现\n",
    "ipoIpoday=pd.read_csv(\"data/IPO_Ipoday.csv\",encoding=\"utf-16\",sep=\"\\t\")\n",
    "ipoIpoday['Offer price']=ipoIpoday['Clsprc']/(ipoIpoday['Retnfstd']+1)\n",
    "ipoIpoday=ipoIpoday.drop(['Clsprc','Retnfstd'],axis=1)\n",
    "#对变量名进行重命名\n",
    "ipoIpoday.rename(columns={'Retnadfstd':'One day excess return','Listdt':'date'}, inplace = True)"
   ]
  },
  {
   "cell_type": "code",
   "execution_count": 19,
   "metadata": {},
   "outputs": [
    {
     "data": {
      "text/html": [
       "<div>\n",
       "<style scoped>\n",
       "    .dataframe tbody tr th:only-of-type {\n",
       "        vertical-align: middle;\n",
       "    }\n",
       "\n",
       "    .dataframe tbody tr th {\n",
       "        vertical-align: top;\n",
       "    }\n",
       "\n",
       "    .dataframe thead th {\n",
       "        text-align: right;\n",
       "    }\n",
       "</style>\n",
       "<table border=\"1\" class=\"dataframe\">\n",
       "  <thead>\n",
       "    <tr style=\"text-align: right;\">\n",
       "      <th></th>\n",
       "      <th>Stkcd</th>\n",
       "      <th>date</th>\n",
       "      <th>One day excess return</th>\n",
       "      <th>Offer price</th>\n",
       "    </tr>\n",
       "  </thead>\n",
       "  <tbody>\n",
       "    <tr>\n",
       "      <th>0</th>\n",
       "      <td>166</td>\n",
       "      <td>2015-01-26</td>\n",
       "      <td>NaN</td>\n",
       "      <td>4.860000</td>\n",
       "    </tr>\n",
       "    <tr>\n",
       "      <th>1</th>\n",
       "      <td>333</td>\n",
       "      <td>2013-09-18</td>\n",
       "      <td>NaN</td>\n",
       "      <td>44.560017</td>\n",
       "    </tr>\n",
       "    <tr>\n",
       "      <th>2</th>\n",
       "      <td>1965</td>\n",
       "      <td>2017-12-25</td>\n",
       "      <td>NaN</td>\n",
       "      <td>8.180000</td>\n",
       "    </tr>\n",
       "    <tr>\n",
       "      <th>3</th>\n",
       "      <td>1979</td>\n",
       "      <td>2015-12-30</td>\n",
       "      <td>NaN</td>\n",
       "      <td>23.600009</td>\n",
       "    </tr>\n",
       "    <tr>\n",
       "      <th>4</th>\n",
       "      <td>2396</td>\n",
       "      <td>2010-06-23</td>\n",
       "      <td>0.322877</td>\n",
       "      <td>23.200000</td>\n",
       "    </tr>\n",
       "  </tbody>\n",
       "</table>\n",
       "</div>"
      ],
      "text/plain": [
       "   Stkcd        date  One day excess return  Offer price\n",
       "0    166  2015-01-26                    NaN     4.860000\n",
       "1    333  2013-09-18                    NaN    44.560017\n",
       "2   1965  2017-12-25                    NaN     8.180000\n",
       "3   1979  2015-12-30                    NaN    23.600009\n",
       "4   2396  2010-06-23               0.322877    23.200000"
      ]
     },
     "execution_count": 19,
     "metadata": {},
     "output_type": "execute_result"
    }
   ],
   "source": [
    "ipoIpoday.head()"
   ]
  },
  {
   "cell_type": "markdown",
   "metadata": {},
   "source": [
    "# 合并数据集"
   ]
  },
  {
   "cell_type": "code",
   "execution_count": 20,
   "metadata": {},
   "outputs": [],
   "source": [
    "def getFirmAge(date1,date2):\n",
    "    #得到两个日期之间相差的天数\n",
    "    #参数：date1、date2，均为pandas的series序列\n",
    "    #返回：天数的pandas-series序列\n",
    "    date11=pd.to_datetime(date1)\n",
    "    date21=pd.to_datetime(date2)\n",
    "    days=(date11-date21).apply(lambda x:x.days)/365\n",
    "    return days"
   ]
  },
  {
   "cell_type": "code",
   "execution_count": 21,
   "metadata": {},
   "outputs": [],
   "source": [
    "#以负债表中的公司为准，合并IPO各数据\n",
    "IPO_a=pd.merge(ipoBalance,ipoCashFlow, how='inner', on=['Stkcd','Subbgdt'])  \n",
    "IPO_b=pd.merge(IPO_a,ipoIncome,on=['Stkcd','Subbgdt'],how=\"inner\")  \n",
    "IPO_c=pd.merge(IPO_b,ipoIpoday,on=['Stkcd'],how=\"inner\")\n",
    "IPO_d=pd.merge(IPO_c,ipoBasic,on=['Stkcd'],how=\"inner\")\n",
    "IPO_e=pd.merge(IPO_d,ipoCobasic,on=['Stkcd'],how=\"inner\")\n",
    "#合并汇率数据\n",
    "IPO_f=pd.merge(IPO_e,trdExchange,on='date',how=\"inner\")"
   ]
  },
  {
   "cell_type": "code",
   "execution_count": 23,
   "metadata": {},
   "outputs": [],
   "source": [
    "#计算ROA1\n",
    "IPO_f['ROA1']=IPO_f['Net income']/IPO_f['Total assets']\n",
    "\n",
    "#计算ROA2\n",
    "IPO_f['ROA2']=IPO_f['Operating profit']/IPO_f['Total assets']\n",
    "\n",
    "#计算资金周转率\n",
    "IPO_f['Total assets turnover rate']=IPO_f['Sales']/IPO_f['Total assets']\n",
    "\n",
    "#计算资产负债比\n",
    "IPO_f['Debt ratio']=1-(IPO_f['Total debts']/IPO_f['Total assets'])\n",
    "\n",
    "#计算公司成立年限\n",
    "IPO_f['Firm age']=getFirmAge(IPO_f['date'],IPO_f['inception date'])\n",
    "\n",
    "#计算发行收益\n",
    "IPO_f['Issue proceeds(USD)']=IPO_f['number of shares sold']*IPO_f['Offer price']/IPO_f['US dollar buying rate']\n",
    "\n",
    "#得到新股发行的年份\n",
    "IPO_f['year']=pd.to_datetime(IPO_f['date']).dt.year"
   ]
  },
  {
   "cell_type": "code",
   "execution_count": 24,
   "metadata": {},
   "outputs": [],
   "source": [
    "#加入对应的上证21天回报率指数\n",
    "IPO_f['Stock market sentiment']=getmarket(IPO_f['Subbgdt'],marketReturn)\n"
   ]
  },
  {
   "cell_type": "code",
   "execution_count": 25,
   "metadata": {},
   "outputs": [],
   "source": [
    "#去掉空行\n",
    "IPO_f.dropna(inplace=True)\n",
    "\n",
    "#取得2014到2017间的数据\n",
    "IPO_f=IPO_f[(IPO_f['year']>=2014)&(IPO_f['year']<=2017)]\n",
    "\n",
    "#对index重新进行排序\n",
    "IPO_g=IPO_f.reset_index(drop=True) "
   ]
  },
  {
   "cell_type": "code",
   "execution_count": 26,
   "metadata": {},
   "outputs": [],
   "source": [
    "#得到最终的数据集\n",
    "IPO=IPO_g.drop(['date','inception date','Subbgdt','US dollar buying rate'],axis=1)"
   ]
  },
  {
   "cell_type": "code",
   "execution_count": 27,
   "metadata": {},
   "outputs": [
    {
     "data": {
      "text/html": [
       "<div>\n",
       "<style scoped>\n",
       "    .dataframe tbody tr th:only-of-type {\n",
       "        vertical-align: middle;\n",
       "    }\n",
       "\n",
       "    .dataframe tbody tr th {\n",
       "        vertical-align: top;\n",
       "    }\n",
       "\n",
       "    .dataframe thead th {\n",
       "        text-align: right;\n",
       "    }\n",
       "</style>\n",
       "<table border=\"1\" class=\"dataframe\">\n",
       "  <thead>\n",
       "    <tr style=\"text-align: right;\">\n",
       "      <th></th>\n",
       "      <th>Stkcd</th>\n",
       "      <th>Total assets</th>\n",
       "      <th>Total debts</th>\n",
       "      <th>Cash flow from operations</th>\n",
       "      <th>Sales</th>\n",
       "      <th>Operating profit</th>\n",
       "      <th>Net income</th>\n",
       "      <th>One day excess return</th>\n",
       "      <th>Offer price</th>\n",
       "      <th>Sales method</th>\n",
       "      <th>number of shares sold</th>\n",
       "      <th>ROA1</th>\n",
       "      <th>ROA2</th>\n",
       "      <th>Total assets turnover rate</th>\n",
       "      <th>Debt ratio</th>\n",
       "      <th>Firm age</th>\n",
       "      <th>Issue proceeds(USD)</th>\n",
       "      <th>year</th>\n",
       "      <th>Stock market sentiment</th>\n",
       "    </tr>\n",
       "  </thead>\n",
       "  <tbody>\n",
       "    <tr>\n",
       "      <th>0</th>\n",
       "      <td>2705</td>\n",
       "      <td>3.390104e+09</td>\n",
       "      <td>2.068954e+09</td>\n",
       "      <td>5.592463e+08</td>\n",
       "      <td>5.041712e+09</td>\n",
       "      <td>2.447157e+08</td>\n",
       "      <td>1.922726e+08</td>\n",
       "      <td>0.467994</td>\n",
       "      <td>10.500000</td>\n",
       "      <td>8,12</td>\n",
       "      <td>7600.0000</td>\n",
       "      <td>0.056716</td>\n",
       "      <td>0.072185</td>\n",
       "      <td>1.487185</td>\n",
       "      <td>0.389708</td>\n",
       "      <td>18.126027</td>\n",
       "      <td>13067.827823</td>\n",
       "      <td>2014</td>\n",
       "      <td>-0.022301</td>\n",
       "    </tr>\n",
       "    <tr>\n",
       "      <th>1</th>\n",
       "      <td>2706</td>\n",
       "      <td>6.125454e+08</td>\n",
       "      <td>2.356095e+08</td>\n",
       "      <td>6.992491e+07</td>\n",
       "      <td>6.838492e+08</td>\n",
       "      <td>8.796354e+07</td>\n",
       "      <td>8.105681e+07</td>\n",
       "      <td>0.425468</td>\n",
       "      <td>19.099998</td>\n",
       "      <td>8,12</td>\n",
       "      <td>2154.0000</td>\n",
       "      <td>0.132328</td>\n",
       "      <td>0.143603</td>\n",
       "      <td>1.116406</td>\n",
       "      <td>0.615360</td>\n",
       "      <td>7.293151</td>\n",
       "      <td>6737.201547</td>\n",
       "      <td>2014</td>\n",
       "      <td>0.009827</td>\n",
       "    </tr>\n",
       "    <tr>\n",
       "      <th>2</th>\n",
       "      <td>2708</td>\n",
       "      <td>7.845328e+08</td>\n",
       "      <td>2.831599e+08</td>\n",
       "      <td>3.287824e+07</td>\n",
       "      <td>5.805561e+08</td>\n",
       "      <td>6.194554e+07</td>\n",
       "      <td>5.317030e+07</td>\n",
       "      <td>0.420506</td>\n",
       "      <td>11.880000</td>\n",
       "      <td>8,12</td>\n",
       "      <td>3320.0000</td>\n",
       "      <td>0.067773</td>\n",
       "      <td>0.078959</td>\n",
       "      <td>0.740002</td>\n",
       "      <td>0.639072</td>\n",
       "      <td>2.986301</td>\n",
       "      <td>6458.847594</td>\n",
       "      <td>2014</td>\n",
       "      <td>0.009827</td>\n",
       "    </tr>\n",
       "    <tr>\n",
       "      <th>3</th>\n",
       "      <td>300357</td>\n",
       "      <td>2.635215e+08</td>\n",
       "      <td>1.223968e+07</td>\n",
       "      <td>5.558691e+07</td>\n",
       "      <td>1.936098e+08</td>\n",
       "      <td>8.163514e+07</td>\n",
       "      <td>6.991001e+07</td>\n",
       "      <td>0.469495</td>\n",
       "      <td>20.050005</td>\n",
       "      <td>8,12</td>\n",
       "      <td>2525.0000</td>\n",
       "      <td>0.265291</td>\n",
       "      <td>0.309785</td>\n",
       "      <td>0.734702</td>\n",
       "      <td>0.953553</td>\n",
       "      <td>11.347945</td>\n",
       "      <td>8290.417208</td>\n",
       "      <td>2014</td>\n",
       "      <td>-0.022301</td>\n",
       "    </tr>\n",
       "    <tr>\n",
       "      <th>4</th>\n",
       "      <td>300358</td>\n",
       "      <td>1.076322e+09</td>\n",
       "      <td>6.208643e+08</td>\n",
       "      <td>1.388938e+08</td>\n",
       "      <td>7.972057e+08</td>\n",
       "      <td>1.400280e+08</td>\n",
       "      <td>1.351335e+08</td>\n",
       "      <td>0.446298</td>\n",
       "      <td>40.000000</td>\n",
       "      <td>8,12</td>\n",
       "      <td>1824.9813</td>\n",
       "      <td>0.125551</td>\n",
       "      <td>0.130099</td>\n",
       "      <td>0.740676</td>\n",
       "      <td>0.423161</td>\n",
       "      <td>11.210959</td>\n",
       "      <td>11954.156486</td>\n",
       "      <td>2014</td>\n",
       "      <td>-0.022301</td>\n",
       "    </tr>\n",
       "  </tbody>\n",
       "</table>\n",
       "</div>"
      ],
      "text/plain": [
       "    Stkcd  Total assets   Total debts  Cash flow from operations  \\\n",
       "0    2705  3.390104e+09  2.068954e+09               5.592463e+08   \n",
       "1    2706  6.125454e+08  2.356095e+08               6.992491e+07   \n",
       "2    2708  7.845328e+08  2.831599e+08               3.287824e+07   \n",
       "3  300357  2.635215e+08  1.223968e+07               5.558691e+07   \n",
       "4  300358  1.076322e+09  6.208643e+08               1.388938e+08   \n",
       "\n",
       "          Sales  Operating profit    Net income  One day excess return  \\\n",
       "0  5.041712e+09      2.447157e+08  1.922726e+08               0.467994   \n",
       "1  6.838492e+08      8.796354e+07  8.105681e+07               0.425468   \n",
       "2  5.805561e+08      6.194554e+07  5.317030e+07               0.420506   \n",
       "3  1.936098e+08      8.163514e+07  6.991001e+07               0.469495   \n",
       "4  7.972057e+08      1.400280e+08  1.351335e+08               0.446298   \n",
       "\n",
       "   Offer price Sales method  number of shares sold      ROA1      ROA2  \\\n",
       "0    10.500000         8,12              7600.0000  0.056716  0.072185   \n",
       "1    19.099998         8,12              2154.0000  0.132328  0.143603   \n",
       "2    11.880000         8,12              3320.0000  0.067773  0.078959   \n",
       "3    20.050005         8,12              2525.0000  0.265291  0.309785   \n",
       "4    40.000000         8,12              1824.9813  0.125551  0.130099   \n",
       "\n",
       "   Total assets turnover rate  Debt ratio   Firm age  Issue proceeds(USD)  \\\n",
       "0                    1.487185    0.389708  18.126027         13067.827823   \n",
       "1                    1.116406    0.615360   7.293151          6737.201547   \n",
       "2                    0.740002    0.639072   2.986301          6458.847594   \n",
       "3                    0.734702    0.953553  11.347945          8290.417208   \n",
       "4                    0.740676    0.423161  11.210959         11954.156486   \n",
       "\n",
       "   year  Stock market sentiment  \n",
       "0  2014               -0.022301  \n",
       "1  2014                0.009827  \n",
       "2  2014                0.009827  \n",
       "3  2014               -0.022301  \n",
       "4  2014               -0.022301  "
      ]
     },
     "execution_count": 27,
     "metadata": {},
     "output_type": "execute_result"
    }
   ],
   "source": [
    "IPO.head()"
   ]
  },
  {
   "cell_type": "code",
   "execution_count": 28,
   "metadata": {},
   "outputs": [
    {
     "data": {
      "text/plain": [
       "8,12       851\n",
       "12         154\n",
       "7            1\n",
       "18,8,12      1\n",
       "Name: Sales method, dtype: int64"
      ]
     },
     "execution_count": 28,
     "metadata": {},
     "output_type": "execute_result"
    }
   ],
   "source": [
    "#由于不是8,12及12销售方式的用户比较少.\n",
    "IPO['Sales method'].value_counts()"
   ]
  },
  {
   "cell_type": "code",
   "execution_count": 29,
   "metadata": {},
   "outputs": [
    {
     "data": {
      "text/plain": [
       "35     18,8,12\n",
       "765          7\n",
       "Name: Sales method, dtype: object"
      ]
     },
     "execution_count": 29,
     "metadata": {},
     "output_type": "execute_result"
    }
   ],
   "source": [
    "#查看它们所在的行\n",
    "IPO['Sales method'][(IPO['Sales method']=='18,8,12')|(IPO['Sales method']=='7')]"
   ]
  },
  {
   "cell_type": "code",
   "execution_count": 30,
   "metadata": {},
   "outputs": [],
   "source": [
    "#构建新的销售方式变量，在采用了12的销售方式的基础上还采用了8的，取值为1，反之为0\n",
    "IPO['Sales method1']=1\n",
    "IPO['Sales method1'][IPO['Sales method']==\"12\"]=0\n",
    "IPO['Sales method1'].value_counts()\n",
    "\n",
    "#删除采用数量较少的两种销售方式\n",
    "ipo1=IPO.drop([519,586],axis=0)\n",
    "ipo1.dropna(axis=0,how='any') \n",
    "\n",
    "#重命名\n",
    "ipo=ipo1.drop(['Sales method'],axis=1)\n",
    "ipo.rename(columns={'Sales method1':'Sales method'}, inplace = True)"
   ]
  },
  {
   "cell_type": "code",
   "execution_count": 31,
   "metadata": {},
   "outputs": [],
   "source": [
    "ipo.to_csv(\"IPO.csv\",index=False)"
   ]
  },
  {
   "cell_type": "code",
   "execution_count": null,
   "metadata": {},
   "outputs": [],
   "source": []
  }
 ],
 "metadata": {
  "kernelspec": {
   "display_name": "Python 3",
   "language": "python",
   "name": "python3"
  },
  "language_info": {
   "codemirror_mode": {
    "name": "ipython",
    "version": 3
   },
   "file_extension": ".py",
   "mimetype": "text/x-python",
   "name": "python",
   "nbconvert_exporter": "python",
   "pygments_lexer": "ipython3",
   "version": "3.6.1"
  },
  "toc": {
   "base_numbering": 1,
   "nav_menu": {},
   "number_sections": true,
   "sideBar": true,
   "skip_h1_title": false,
   "title_cell": "Table of Contents",
   "title_sidebar": "Contents",
   "toc_cell": false,
   "toc_position": {
    "height": "calc(100% - 180px)",
    "left": "10px",
    "top": "150px",
    "width": "311px"
   },
   "toc_section_display": true,
   "toc_window_display": true
  }
 },
 "nbformat": 4,
 "nbformat_minor": 2
}
